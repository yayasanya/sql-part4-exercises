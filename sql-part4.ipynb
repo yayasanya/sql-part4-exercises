{
    "metadata": {
        "kernelspec": {
            "name": "SQL",
            "display_name": "SQL",
            "language": "sql"
        },
        "language_info": {
            "name": "sql",
            "version": ""
        }
    },
    "nbformat_minor": 2,
    "nbformat": 4,
    "cells": [
        {
            "cell_type": "markdown",
            "source": [
                "# Exercises: Complex queries\n",
                "\n",
                "For the exercises, you are tasked with writing five queries that will help you delve deeper into BooksDB. You can choose whether you want to use a correlated subquery, a nested subquery, the UNION operator, the INTERSECT operator, or the EXCEPT operator for each one. You may not use joins or add multiple statements to the WHERE clause.\n",
                "\n",
                "1. Write a query that will return the number of users who rated a book above it's average rating."
            ],
            "metadata": {
                "azdata_cell_guid": "10006a10-882f-4f55-8d42-f36044fdb6c7"
            },
            "attachments": {}
        },
        {
            "cell_type": "code",
            "source": [
                "SELECT TOP 100 COUNT(user_id) AS 'Number of ratings above average', r.book_id\n",
                "FROM BooksDB.dbo.ratings AS r \n",
                "WHERE rating >\n",
                "    (SELECT average_rating\n",
                "    FROM BooksDB.dbo.books as b \n",
                "    WHERE b.best_book_id=r.book_id)\n",
                "GROUP BY r.book_id\n",
                "ORDER BY 'Number of ratings above average' DESC"
            ],
            "metadata": {
                "azdata_cell_guid": "203eb95e-6585-435f-8a8e-bfa0dfe6f7c0",
                "tags": [],
                "language": "sql"
            },
            "outputs": [
                {
                    "output_type": "display_data",
                    "data": {
                        "text/html": "(100 rows affected)"
                    },
                    "metadata": {}
                },
                {
                    "output_type": "display_data",
                    "data": {
                        "text/html": "Total execution time: 00:00:00.563"
                    },
                    "metadata": {}
                },
                {
                    "output_type": "execute_result",
                    "execution_count": 1,
                    "data": {
                        "application/vnd.dataresource+json": {
                            "schema": {
                                "fields": [
                                    {
                                        "name": "Number of ratings above average"
                                    },
                                    {
                                        "name": "book_id"
                                    }
                                ]
                            },
                            "data": [
                                {
                                    "Number of ratings above average": "94",
                                    "book_id": "3648"
                                },
                                {
                                    "Number of ratings above average": "94",
                                    "book_id": "4708"
                                },
                                {
                                    "Number of ratings above average": "92",
                                    "book_id": "9569"
                                },
                                {
                                    "Number of ratings above average": "92",
                                    "book_id": "5113"
                                },
                                {
                                    "Number of ratings above average": "91",
                                    "book_id": "2865"
                                },
                                {
                                    "Number of ratings above average": "90",
                                    "book_id": "5344"
                                },
                                {
                                    "Number of ratings above average": "90",
                                    "book_id": "5346"
                                },
                                {
                                    "Number of ratings above average": "89",
                                    "book_id": "976"
                                },
                                {
                                    "Number of ratings above average": "89",
                                    "book_id": "6613"
                                },
                                {
                                    "Number of ratings above average": "89",
                                    "book_id": "2978"
                                },
                                {
                                    "Number of ratings above average": "89",
                                    "book_id": "2872"
                                },
                                {
                                    "Number of ratings above average": "88",
                                    "book_id": "4806"
                                },
                                {
                                    "Number of ratings above average": "88",
                                    "book_id": "6862"
                                },
                                {
                                    "Number of ratings above average": "88",
                                    "book_id": "250"
                                },
                                {
                                    "Number of ratings above average": "87",
                                    "book_id": "1618"
                                },
                                {
                                    "Number of ratings above average": "87",
                                    "book_id": "4921"
                                },
                                {
                                    "Number of ratings above average": "87",
                                    "book_id": "7039"
                                },
                                {
                                    "Number of ratings above average": "87",
                                    "book_id": "9712"
                                },
                                {
                                    "Number of ratings above average": "86",
                                    "book_id": "3483"
                                },
                                {
                                    "Number of ratings above average": "86",
                                    "book_id": "6462"
                                },
                                {
                                    "Number of ratings above average": "86",
                                    "book_id": "7993"
                                },
                                {
                                    "Number of ratings above average": "86",
                                    "book_id": "8492"
                                },
                                {
                                    "Number of ratings above average": "86",
                                    "book_id": "3679"
                                },
                                {
                                    "Number of ratings above average": "85",
                                    "book_id": "359"
                                },
                                {
                                    "Number of ratings above average": "85",
                                    "book_id": "7081"
                                },
                                {
                                    "Number of ratings above average": "85",
                                    "book_id": "365"
                                },
                                {
                                    "Number of ratings above average": "84",
                                    "book_id": "7455"
                                },
                                {
                                    "Number of ratings above average": "84",
                                    "book_id": "6193"
                                },
                                {
                                    "Number of ratings above average": "84",
                                    "book_id": "5481"
                                },
                                {
                                    "Number of ratings above average": "83",
                                    "book_id": "1274"
                                },
                                {
                                    "Number of ratings above average": "83",
                                    "book_id": "2956"
                                },
                                {
                                    "Number of ratings above average": "83",
                                    "book_id": "8909"
                                },
                                {
                                    "Number of ratings above average": "83",
                                    "book_id": "760"
                                },
                                {
                                    "Number of ratings above average": "83",
                                    "book_id": "4796"
                                },
                                {
                                    "Number of ratings above average": "83",
                                    "book_id": "4507"
                                },
                                {
                                    "Number of ratings above average": "83",
                                    "book_id": "5181"
                                },
                                {
                                    "Number of ratings above average": "83",
                                    "book_id": "4004"
                                },
                                {
                                    "Number of ratings above average": "82",
                                    "book_id": "6149"
                                },
                                {
                                    "Number of ratings above average": "82",
                                    "book_id": "3378"
                                },
                                {
                                    "Number of ratings above average": "82",
                                    "book_id": "5093"
                                },
                                {
                                    "Number of ratings above average": "82",
                                    "book_id": "2493"
                                },
                                {
                                    "Number of ratings above average": "82",
                                    "book_id": "7987"
                                },
                                {
                                    "Number of ratings above average": "82",
                                    "book_id": "295"
                                },
                                {
                                    "Number of ratings above average": "82",
                                    "book_id": "5129"
                                },
                                {
                                    "Number of ratings above average": "82",
                                    "book_id": "7999"
                                },
                                {
                                    "Number of ratings above average": "82",
                                    "book_id": "4325"
                                },
                                {
                                    "Number of ratings above average": "81",
                                    "book_id": "3692"
                                },
                                {
                                    "Number of ratings above average": "81",
                                    "book_id": "3110"
                                },
                                {
                                    "Number of ratings above average": "81",
                                    "book_id": "3698"
                                },
                                {
                                    "Number of ratings above average": "81",
                                    "book_id": "2175"
                                },
                                {
                                    "Number of ratings above average": "81",
                                    "book_id": "5182"
                                },
                                {
                                    "Number of ratings above average": "81",
                                    "book_id": "25"
                                },
                                {
                                    "Number of ratings above average": "81",
                                    "book_id": "890"
                                },
                                {
                                    "Number of ratings above average": "81",
                                    "book_id": "3836"
                                },
                                {
                                    "Number of ratings above average": "81",
                                    "book_id": "7061"
                                },
                                {
                                    "Number of ratings above average": "81",
                                    "book_id": "7613"
                                },
                                {
                                    "Number of ratings above average": "81",
                                    "book_id": "446"
                                },
                                {
                                    "Number of ratings above average": "80",
                                    "book_id": "27"
                                },
                                {
                                    "Number of ratings above average": "80",
                                    "book_id": "6185"
                                },
                                {
                                    "Number of ratings above average": "80",
                                    "book_id": "9998"
                                },
                                {
                                    "Number of ratings above average": "80",
                                    "book_id": "8852"
                                },
                                {
                                    "Number of ratings above average": "80",
                                    "book_id": "9010"
                                },
                                {
                                    "Number of ratings above average": "80",
                                    "book_id": "9912"
                                },
                                {
                                    "Number of ratings above average": "80",
                                    "book_id": "7073"
                                },
                                {
                                    "Number of ratings above average": "80",
                                    "book_id": "5068"
                                },
                                {
                                    "Number of ratings above average": "80",
                                    "book_id": "4271"
                                },
                                {
                                    "Number of ratings above average": "80",
                                    "book_id": "662"
                                },
                                {
                                    "Number of ratings above average": "80",
                                    "book_id": "665"
                                },
                                {
                                    "Number of ratings above average": "80",
                                    "book_id": "9784"
                                },
                                {
                                    "Number of ratings above average": "80",
                                    "book_id": "8089"
                                },
                                {
                                    "Number of ratings above average": "80",
                                    "book_id": "8087"
                                },
                                {
                                    "Number of ratings above average": "80",
                                    "book_id": "5180"
                                },
                                {
                                    "Number of ratings above average": "80",
                                    "book_id": "5659"
                                },
                                {
                                    "Number of ratings above average": "80",
                                    "book_id": "50"
                                },
                                {
                                    "Number of ratings above average": "79",
                                    "book_id": "900"
                                },
                                {
                                    "Number of ratings above average": "79",
                                    "book_id": "1192"
                                },
                                {
                                    "Number of ratings above average": "79",
                                    "book_id": "4381"
                                },
                                {
                                    "Number of ratings above average": "79",
                                    "book_id": "3873"
                                },
                                {
                                    "Number of ratings above average": "79",
                                    "book_id": "4122"
                                },
                                {
                                    "Number of ratings above average": "79",
                                    "book_id": "7979"
                                },
                                {
                                    "Number of ratings above average": "79",
                                    "book_id": "7679"
                                },
                                {
                                    "Number of ratings above average": "79",
                                    "book_id": "4006"
                                },
                                {
                                    "Number of ratings above average": "79",
                                    "book_id": "98"
                                },
                                {
                                    "Number of ratings above average": "79",
                                    "book_id": "9566"
                                },
                                {
                                    "Number of ratings above average": "79",
                                    "book_id": "6872"
                                },
                                {
                                    "Number of ratings above average": "79",
                                    "book_id": "1519"
                                },
                                {
                                    "Number of ratings above average": "79",
                                    "book_id": "8648"
                                },
                                {
                                    "Number of ratings above average": "79",
                                    "book_id": "9597"
                                },
                                {
                                    "Number of ratings above average": "78",
                                    "book_id": "9298"
                                },
                                {
                                    "Number of ratings above average": "78",
                                    "book_id": "6419"
                                },
                                {
                                    "Number of ratings above average": "78",
                                    "book_id": "5204"
                                },
                                {
                                    "Number of ratings above average": "78",
                                    "book_id": "5369"
                                },
                                {
                                    "Number of ratings above average": "78",
                                    "book_id": "6697"
                                },
                                {
                                    "Number of ratings above average": "78",
                                    "book_id": "456"
                                },
                                {
                                    "Number of ratings above average": "78",
                                    "book_id": "7672"
                                },
                                {
                                    "Number of ratings above average": "78",
                                    "book_id": "93"
                                },
                                {
                                    "Number of ratings above average": "78",
                                    "book_id": "291"
                                },
                                {
                                    "Number of ratings above average": "78",
                                    "book_id": "7035"
                                },
                                {
                                    "Number of ratings above average": "78",
                                    "book_id": "5849"
                                },
                                {
                                    "Number of ratings above average": "77",
                                    "book_id": "7669"
                                }
                            ]
                        },
                        "text/html": "<table><tr><th>Number of ratings above average</th><th>book_id</th></tr><tr><td>94</td><td>3648</td></tr><tr><td>94</td><td>4708</td></tr><tr><td>92</td><td>9569</td></tr><tr><td>92</td><td>5113</td></tr><tr><td>91</td><td>2865</td></tr><tr><td>90</td><td>5344</td></tr><tr><td>90</td><td>5346</td></tr><tr><td>89</td><td>976</td></tr><tr><td>89</td><td>6613</td></tr><tr><td>89</td><td>2978</td></tr><tr><td>89</td><td>2872</td></tr><tr><td>88</td><td>4806</td></tr><tr><td>88</td><td>6862</td></tr><tr><td>88</td><td>250</td></tr><tr><td>87</td><td>1618</td></tr><tr><td>87</td><td>4921</td></tr><tr><td>87</td><td>7039</td></tr><tr><td>87</td><td>9712</td></tr><tr><td>86</td><td>3483</td></tr><tr><td>86</td><td>6462</td></tr><tr><td>86</td><td>7993</td></tr><tr><td>86</td><td>8492</td></tr><tr><td>86</td><td>3679</td></tr><tr><td>85</td><td>359</td></tr><tr><td>85</td><td>7081</td></tr><tr><td>85</td><td>365</td></tr><tr><td>84</td><td>7455</td></tr><tr><td>84</td><td>6193</td></tr><tr><td>84</td><td>5481</td></tr><tr><td>83</td><td>1274</td></tr><tr><td>83</td><td>2956</td></tr><tr><td>83</td><td>8909</td></tr><tr><td>83</td><td>760</td></tr><tr><td>83</td><td>4796</td></tr><tr><td>83</td><td>4507</td></tr><tr><td>83</td><td>5181</td></tr><tr><td>83</td><td>4004</td></tr><tr><td>82</td><td>6149</td></tr><tr><td>82</td><td>3378</td></tr><tr><td>82</td><td>5093</td></tr><tr><td>82</td><td>2493</td></tr><tr><td>82</td><td>7987</td></tr><tr><td>82</td><td>295</td></tr><tr><td>82</td><td>5129</td></tr><tr><td>82</td><td>7999</td></tr><tr><td>82</td><td>4325</td></tr><tr><td>81</td><td>3692</td></tr><tr><td>81</td><td>3110</td></tr><tr><td>81</td><td>3698</td></tr><tr><td>81</td><td>2175</td></tr><tr><td>81</td><td>5182</td></tr><tr><td>81</td><td>25</td></tr><tr><td>81</td><td>890</td></tr><tr><td>81</td><td>3836</td></tr><tr><td>81</td><td>7061</td></tr><tr><td>81</td><td>7613</td></tr><tr><td>81</td><td>446</td></tr><tr><td>80</td><td>27</td></tr><tr><td>80</td><td>6185</td></tr><tr><td>80</td><td>9998</td></tr><tr><td>80</td><td>8852</td></tr><tr><td>80</td><td>9010</td></tr><tr><td>80</td><td>9912</td></tr><tr><td>80</td><td>7073</td></tr><tr><td>80</td><td>5068</td></tr><tr><td>80</td><td>4271</td></tr><tr><td>80</td><td>662</td></tr><tr><td>80</td><td>665</td></tr><tr><td>80</td><td>9784</td></tr><tr><td>80</td><td>8089</td></tr><tr><td>80</td><td>8087</td></tr><tr><td>80</td><td>5180</td></tr><tr><td>80</td><td>5659</td></tr><tr><td>80</td><td>50</td></tr><tr><td>79</td><td>900</td></tr><tr><td>79</td><td>1192</td></tr><tr><td>79</td><td>4381</td></tr><tr><td>79</td><td>3873</td></tr><tr><td>79</td><td>4122</td></tr><tr><td>79</td><td>7979</td></tr><tr><td>79</td><td>7679</td></tr><tr><td>79</td><td>4006</td></tr><tr><td>79</td><td>98</td></tr><tr><td>79</td><td>9566</td></tr><tr><td>79</td><td>6872</td></tr><tr><td>79</td><td>1519</td></tr><tr><td>79</td><td>8648</td></tr><tr><td>79</td><td>9597</td></tr><tr><td>78</td><td>9298</td></tr><tr><td>78</td><td>6419</td></tr><tr><td>78</td><td>5204</td></tr><tr><td>78</td><td>5369</td></tr><tr><td>78</td><td>6697</td></tr><tr><td>78</td><td>456</td></tr><tr><td>78</td><td>7672</td></tr><tr><td>78</td><td>93</td></tr><tr><td>78</td><td>291</td></tr><tr><td>78</td><td>7035</td></tr><tr><td>78</td><td>5849</td></tr><tr><td>77</td><td>7669</td></tr></table>"
                    },
                    "metadata": {}
                }
            ],
            "execution_count": 1
        },
        {
            "cell_type": "markdown",
            "source": [
                "2. Write a query that returns the book ids of all books that have over 1000 ratings of 1 star or over 1000 ratings of 5 stars."
            ],
            "metadata": {
                "azdata_cell_guid": "7f849931-6c9c-4cd9-b3ba-66871052673d"
            },
            "attachments": {}
        },
        {
            "cell_type": "code",
            "source": [
                "SELECT TOP 100 book_id FROM BooksDB.dbo.books WHERE ratings_1 > 1000\n",
                "UNION\n",
                "SELECT TOP 100 book_id FROM BooksDB.dbo.books WHERE ratings_5 > 1000\n",
                "ORDER BY book_id\n",
                ""
            ],
            "metadata": {
                "azdata_cell_guid": "bce732e3-1590-457b-b1f9-5319345ff790",
                "language": "sql",
                "tags": []
            },
            "outputs": [
                {
                    "output_type": "display_data",
                    "data": {
                        "text/html": "(101 rows affected)"
                    },
                    "metadata": {}
                },
                {
                    "output_type": "display_data",
                    "data": {
                        "text/html": "Total execution time: 00:00:00.073"
                    },
                    "metadata": {}
                },
                {
                    "output_type": "execute_result",
                    "execution_count": 2,
                    "data": {
                        "application/vnd.dataresource+json": {
                            "schema": {
                                "fields": [
                                    {
                                        "name": "book_id"
                                    }
                                ]
                            },
                            "data": [
                                {
                                    "book_id": "1"
                                },
                                {
                                    "book_id": "2"
                                },
                                {
                                    "book_id": "3"
                                },
                                {
                                    "book_id": "5"
                                },
                                {
                                    "book_id": "6"
                                },
                                {
                                    "book_id": "11"
                                },
                                {
                                    "book_id": "34"
                                },
                                {
                                    "book_id": "320"
                                },
                                {
                                    "book_id": "865"
                                },
                                {
                                    "book_id": "890"
                                },
                                {
                                    "book_id": "930"
                                },
                                {
                                    "book_id": "960"
                                },
                                {
                                    "book_id": "968"
                                },
                                {
                                    "book_id": "1202"
                                },
                                {
                                    "book_id": "1381"
                                },
                                {
                                    "book_id": "1617"
                                },
                                {
                                    "book_id": "1618"
                                },
                                {
                                    "book_id": "1845"
                                },
                                {
                                    "book_id": "1885"
                                },
                                {
                                    "book_id": "1934"
                                },
                                {
                                    "book_id": "1953"
                                },
                                {
                                    "book_id": "2657"
                                },
                                {
                                    "book_id": "2956"
                                },
                                {
                                    "book_id": "2998"
                                },
                                {
                                    "book_id": "3636"
                                },
                                {
                                    "book_id": "4214"
                                },
                                {
                                    "book_id": "4381"
                                },
                                {
                                    "book_id": "4671"
                                },
                                {
                                    "book_id": "4981"
                                },
                                {
                                    "book_id": "5107"
                                },
                                {
                                    "book_id": "5129"
                                },
                                {
                                    "book_id": "5139"
                                },
                                {
                                    "book_id": "5297"
                                },
                                {
                                    "book_id": "5470"
                                },
                                {
                                    "book_id": "5907"
                                },
                                {
                                    "book_id": "6185"
                                },
                                {
                                    "book_id": "7445"
                                },
                                {
                                    "book_id": "7613"
                                },
                                {
                                    "book_id": "7624"
                                },
                                {
                                    "book_id": "7677"
                                },
                                {
                                    "book_id": "10210"
                                },
                                {
                                    "book_id": "10917"
                                },
                                {
                                    "book_id": "11588"
                                },
                                {
                                    "book_id": "13496"
                                },
                                {
                                    "book_id": "14050"
                                },
                                {
                                    "book_id": "14935"
                                },
                                {
                                    "book_id": "15881"
                                },
                                {
                                    "book_id": "15931"
                                },
                                {
                                    "book_id": "17245"
                                },
                                {
                                    "book_id": "18135"
                                },
                                {
                                    "book_id": "18405"
                                },
                                {
                                    "book_id": "18490"
                                },
                                {
                                    "book_id": "19063"
                                },
                                {
                                    "book_id": "19501"
                                },
                                {
                                    "book_id": "21787"
                                },
                                {
                                    "book_id": "22628"
                                },
                                {
                                    "book_id": "23966"
                                },
                                {
                                    "book_id": "24178"
                                },
                                {
                                    "book_id": "28187"
                                },
                                {
                                    "book_id": "30119"
                                },
                                {
                                    "book_id": "32542"
                                },
                                {
                                    "book_id": "37435"
                                },
                                {
                                    "book_id": "38709"
                                },
                                {
                                    "book_id": "41865"
                                },
                                {
                                    "book_id": "43641"
                                },
                                {
                                    "book_id": "48855"
                                },
                                {
                                    "book_id": "49041"
                                },
                                {
                                    "book_id": "77203"
                                },
                                {
                                    "book_id": "99561"
                                },
                                {
                                    "book_id": "100915"
                                },
                                {
                                    "book_id": "113436"
                                },
                                {
                                    "book_id": "119322"
                                },
                                {
                                    "book_id": "128029"
                                },
                                {
                                    "book_id": "136251"
                                },
                                {
                                    "book_id": "157993"
                                },
                                {
                                    "book_id": "227443"
                                },
                                {
                                    "book_id": "231804"
                                },
                                {
                                    "book_id": "256683"
                                },
                                {
                                    "book_id": "370493"
                                },
                                {
                                    "book_id": "375802"
                                },
                                {
                                    "book_id": "428263"
                                },
                                {
                                    "book_id": "1162543"
                                },
                                {
                                    "book_id": "1656001"
                                },
                                {
                                    "book_id": "2429135"
                                },
                                {
                                    "book_id": "2767052"
                                },
                                {
                                    "book_id": "4667024"
                                },
                                {
                                    "book_id": "5060378"
                                },
                                {
                                    "book_id": "6148028"
                                },
                                {
                                    "book_id": "6186357"
                                },
                                {
                                    "book_id": "6442769"
                                },
                                {
                                    "book_id": "7260188"
                                },
                                {
                                    "book_id": "8442457"
                                },
                                {
                                    "book_id": "10818853"
                                },
                                {
                                    "book_id": "11735983"
                                },
                                {
                                    "book_id": "11857408"
                                },
                                {
                                    "book_id": "11870085"
                                },
                                {
                                    "book_id": "12232938"
                                },
                                {
                                    "book_id": "13335037"
                                },
                                {
                                    "book_id": "13536860"
                                },
                                {
                                    "book_id": "16068905"
                                },
                                {
                                    "book_id": "22557272"
                                }
                            ]
                        },
                        "text/html": "<table><tr><th>book_id</th></tr><tr><td>1</td></tr><tr><td>2</td></tr><tr><td>3</td></tr><tr><td>5</td></tr><tr><td>6</td></tr><tr><td>11</td></tr><tr><td>34</td></tr><tr><td>320</td></tr><tr><td>865</td></tr><tr><td>890</td></tr><tr><td>930</td></tr><tr><td>960</td></tr><tr><td>968</td></tr><tr><td>1202</td></tr><tr><td>1381</td></tr><tr><td>1617</td></tr><tr><td>1618</td></tr><tr><td>1845</td></tr><tr><td>1885</td></tr><tr><td>1934</td></tr><tr><td>1953</td></tr><tr><td>2657</td></tr><tr><td>2956</td></tr><tr><td>2998</td></tr><tr><td>3636</td></tr><tr><td>4214</td></tr><tr><td>4381</td></tr><tr><td>4671</td></tr><tr><td>4981</td></tr><tr><td>5107</td></tr><tr><td>5129</td></tr><tr><td>5139</td></tr><tr><td>5297</td></tr><tr><td>5470</td></tr><tr><td>5907</td></tr><tr><td>6185</td></tr><tr><td>7445</td></tr><tr><td>7613</td></tr><tr><td>7624</td></tr><tr><td>7677</td></tr><tr><td>10210</td></tr><tr><td>10917</td></tr><tr><td>11588</td></tr><tr><td>13496</td></tr><tr><td>14050</td></tr><tr><td>14935</td></tr><tr><td>15881</td></tr><tr><td>15931</td></tr><tr><td>17245</td></tr><tr><td>18135</td></tr><tr><td>18405</td></tr><tr><td>18490</td></tr><tr><td>19063</td></tr><tr><td>19501</td></tr><tr><td>21787</td></tr><tr><td>22628</td></tr><tr><td>23966</td></tr><tr><td>24178</td></tr><tr><td>28187</td></tr><tr><td>30119</td></tr><tr><td>32542</td></tr><tr><td>37435</td></tr><tr><td>38709</td></tr><tr><td>41865</td></tr><tr><td>43641</td></tr><tr><td>48855</td></tr><tr><td>49041</td></tr><tr><td>77203</td></tr><tr><td>99561</td></tr><tr><td>100915</td></tr><tr><td>113436</td></tr><tr><td>119322</td></tr><tr><td>128029</td></tr><tr><td>136251</td></tr><tr><td>157993</td></tr><tr><td>227443</td></tr><tr><td>231804</td></tr><tr><td>256683</td></tr><tr><td>370493</td></tr><tr><td>375802</td></tr><tr><td>428263</td></tr><tr><td>1162543</td></tr><tr><td>1656001</td></tr><tr><td>2429135</td></tr><tr><td>2767052</td></tr><tr><td>4667024</td></tr><tr><td>5060378</td></tr><tr><td>6148028</td></tr><tr><td>6186357</td></tr><tr><td>6442769</td></tr><tr><td>7260188</td></tr><tr><td>8442457</td></tr><tr><td>10818853</td></tr><tr><td>11735983</td></tr><tr><td>11857408</td></tr><tr><td>11870085</td></tr><tr><td>12232938</td></tr><tr><td>13335037</td></tr><tr><td>13536860</td></tr><tr><td>16068905</td></tr><tr><td>22557272</td></tr></table>"
                    },
                    "metadata": {}
                }
            ],
            "execution_count": 2
        },
        {
            "cell_type": "markdown",
            "source": [
                "3. Write a query that returns the book ids of all books that have over 1000 ratings of 1 star and over 1000 ratings of 5 stars."
            ],
            "metadata": {
                "azdata_cell_guid": "9c53b866-c8e8-465e-b089-7702b191a15e"
            },
            "attachments": {}
        },
        {
            "cell_type": "code",
            "source": [
                "SELECT TOP 100 book_id, ratings_1, ratings_5 FROM BooksDB.dbo.books WHERE ratings_1 > 1000\n",
                "INTERSECT\n",
                "SELECT TOP 100 book_id, ratings_1, ratings_5 FROM BooksDB.dbo.books WHERE ratings_5 > 1000"
            ],
            "metadata": {
                "azdata_cell_guid": "43e39973-5a29-45ff-b2a9-9c658a19c296",
                "language": "sql"
            },
            "outputs": [
                {
                    "output_type": "display_data",
                    "data": {
                        "text/html": "(99 rows affected)"
                    },
                    "metadata": {}
                },
                {
                    "output_type": "display_data",
                    "data": {
                        "text/html": "Total execution time: 00:00:00.075"
                    },
                    "metadata": {}
                },
                {
                    "output_type": "execute_result",
                    "execution_count": 5,
                    "data": {
                        "application/vnd.dataresource+json": {
                            "schema": {
                                "fields": [
                                    {
                                        "name": "book_id"
                                    },
                                    {
                                        "name": "ratings_1"
                                    },
                                    {
                                        "name": "ratings_5"
                                    }
                                ]
                            },
                            "data": [
                                {
                                    "book_id": "1",
                                    "ratings_1": "7308",
                                    "ratings_5": "1161491"
                                },
                                {
                                    "book_id": "2",
                                    "ratings_1": "9528",
                                    "ratings_5": "1124806"
                                },
                                {
                                    "book_id": "3",
                                    "ratings_1": "75504",
                                    "ratings_5": "3011543"
                                },
                                {
                                    "book_id": "5",
                                    "ratings_1": "6716",
                                    "ratings_5": "1266670"
                                },
                                {
                                    "book_id": "6",
                                    "ratings_1": "6676",
                                    "ratings_5": "1195045"
                                },
                                {
                                    "book_id": "11",
                                    "ratings_1": "21764",
                                    "ratings_5": "498001"
                                },
                                {
                                    "book_id": "34",
                                    "ratings_1": "38031",
                                    "ratings_5": "1042394"
                                },
                                {
                                    "book_id": "320",
                                    "ratings_1": "27340",
                                    "ratings_5": "267197"
                                },
                                {
                                    "book_id": "865",
                                    "ratings_1": "74846",
                                    "ratings_5": "504212"
                                },
                                {
                                    "book_id": "890",
                                    "ratings_1": "46630",
                                    "ratings_5": "473795"
                                },
                                {
                                    "book_id": "930",
                                    "ratings_1": "23500",
                                    "ratings_5": "559782"
                                },
                                {
                                    "book_id": "960",
                                    "ratings_1": "77841",
                                    "ratings_5": "680175"
                                },
                                {
                                    "book_id": "968",
                                    "ratings_1": "71345",
                                    "ratings_5": "479387"
                                },
                                {
                                    "book_id": "1202",
                                    "ratings_1": "14586",
                                    "ratings_5": "176072"
                                },
                                {
                                    "book_id": "1381",
                                    "ratings_1": "29703",
                                    "ratings_5": "208223"
                                },
                                {
                                    "book_id": "1617",
                                    "ratings_1": "7761",
                                    "ratings_5": "360777"
                                },
                                {
                                    "book_id": "1618",
                                    "ratings_1": "21049",
                                    "ratings_5": "262481"
                                },
                                {
                                    "book_id": "1845",
                                    "ratings_1": "19229",
                                    "ratings_5": "227095"
                                },
                                {
                                    "book_id": "1885",
                                    "ratings_1": "54700",
                                    "ratings_5": "1155673"
                                },
                                {
                                    "book_id": "1934",
                                    "ratings_1": "31645",
                                    "ratings_5": "535563"
                                },
                                {
                                    "book_id": "1953",
                                    "ratings_1": "28904",
                                    "ratings_5": "223571"
                                },
                                {
                                    "book_id": "2657",
                                    "ratings_1": "60427",
                                    "ratings_5": "1714267"
                                },
                                {
                                    "book_id": "2956",
                                    "ratings_1": "28467",
                                    "ratings_5": "296316"
                                },
                                {
                                    "book_id": "2998",
                                    "ratings_1": "8005",
                                    "ratings_5": "285570"
                                },
                                {
                                    "book_id": "3636",
                                    "ratings_1": "26497",
                                    "ratings_5": "585279"
                                },
                                {
                                    "book_id": "4214",
                                    "ratings_1": "39768",
                                    "ratings_5": "360466"
                                },
                                {
                                    "book_id": "4381",
                                    "ratings_1": "28366",
                                    "ratings_5": "419051"
                                },
                                {
                                    "book_id": "4671",
                                    "ratings_1": "86236",
                                    "ratings_5": "947718"
                                },
                                {
                                    "book_id": "4981",
                                    "ratings_1": "24964",
                                    "ratings_5": "367890"
                                },
                                {
                                    "book_id": "5107",
                                    "ratings_1": "109383",
                                    "ratings_5": "709176"
                                },
                                {
                                    "book_id": "5129",
                                    "ratings_1": "26367",
                                    "ratings_5": "383166"
                                },
                                {
                                    "book_id": "5139",
                                    "ratings_1": "24231",
                                    "ratings_5": "178250"
                                },
                                {
                                    "book_id": "5297",
                                    "ratings_1": "9825",
                                    "ratings_5": "257679"
                                },
                                {
                                    "book_id": "5470",
                                    "ratings_1": "41845",
                                    "ratings_5": "908229"
                                },
                                {
                                    "book_id": "5907",
                                    "ratings_1": "46023",
                                    "ratings_5": "1119718"
                                },
                                {
                                    "book_id": "6185",
                                    "ratings_1": "46469",
                                    "ratings_5": "346082"
                                },
                                {
                                    "book_id": "7445",
                                    "ratings_1": "7901",
                                    "ratings_5": "298102"
                                },
                                {
                                    "book_id": "7613",
                                    "ratings_1": "66854",
                                    "ratings_5": "648912"
                                },
                                {
                                    "book_id": "7624",
                                    "ratings_1": "92779",
                                    "ratings_5": "427846"
                                },
                                {
                                    "book_id": "7677",
                                    "ratings_1": "15736",
                                    "ratings_5": "230615"
                                },
                                {
                                    "book_id": "10210",
                                    "ratings_1": "35132",
                                    "ratings_5": "574221"
                                },
                                {
                                    "book_id": "10917",
                                    "ratings_1": "17547",
                                    "ratings_5": "350994"
                                },
                                {
                                    "book_id": "11588",
                                    "ratings_1": "18487",
                                    "ratings_5": "382158"
                                },
                                {
                                    "book_id": "13496",
                                    "ratings_1": "19988",
                                    "ratings_5": "874574"
                                },
                                {
                                    "book_id": "14050",
                                    "ratings_1": "44339",
                                    "ratings_5": "493884"
                                },
                                {
                                    "book_id": "14935",
                                    "ratings_1": "18430",
                                    "ratings_5": "311754"
                                },
                                {
                                    "book_id": "15881",
                                    "ratings_1": "8253",
                                    "ratings_5": "1065084"
                                },
                                {
                                    "book_id": "15931",
                                    "ratings_1": "41395",
                                    "ratings_5": "497194"
                                },
                                {
                                    "book_id": "17245",
                                    "ratings_1": "11756",
                                    "ratings_5": "243825"
                                },
                                {
                                    "book_id": "18135",
                                    "ratings_1": "57980",
                                    "ratings_5": "489235"
                                },
                                {
                                    "book_id": "18405",
                                    "ratings_1": "19996",
                                    "ratings_5": "493721"
                                },
                                {
                                    "book_id": "18490",
                                    "ratings_1": "29366",
                                    "ratings_5": "248538"
                                },
                                {
                                    "book_id": "19063",
                                    "ratings_1": "17892",
                                    "ratings_5": "722056"
                                },
                                {
                                    "book_id": "19501",
                                    "ratings_1": "100373",
                                    "ratings_5": "314272"
                                },
                                {
                                    "book_id": "21787",
                                    "ratings_1": "12883",
                                    "ratings_5": "338235"
                                },
                                {
                                    "book_id": "22628",
                                    "ratings_1": "14286",
                                    "ratings_5": "461020"
                                },
                                {
                                    "book_id": "24178",
                                    "ratings_1": "18450",
                                    "ratings_5": "487763"
                                },
                                {
                                    "book_id": "28187",
                                    "ratings_1": "18303",
                                    "ratings_5": "689365"
                                },
                                {
                                    "book_id": "30119",
                                    "ratings_1": "16590",
                                    "ratings_5": "544153"
                                },
                                {
                                    "book_id": "32542",
                                    "ratings_1": "12106",
                                    "ratings_5": "229488"
                                },
                                {
                                    "book_id": "37435",
                                    "ratings_1": "17500",
                                    "ratings_5": "341267"
                                },
                                {
                                    "book_id": "38709",
                                    "ratings_1": "15495",
                                    "ratings_5": "259257"
                                },
                                {
                                    "book_id": "41865",
                                    "ratings_1": "456191",
                                    "ratings_5": "1355439"
                                },
                                {
                                    "book_id": "43641",
                                    "ratings_1": "16705",
                                    "ratings_5": "424820"
                                },
                                {
                                    "book_id": "48855",
                                    "ratings_1": "45225",
                                    "ratings_5": "875372"
                                },
                                {
                                    "book_id": "49041",
                                    "ratings_1": "102837",
                                    "ratings_5": "350684"
                                },
                                {
                                    "book_id": "77203",
                                    "ratings_1": "34288",
                                    "ratings_5": "929591"
                                },
                                {
                                    "book_id": "99561",
                                    "ratings_1": "16940",
                                    "ratings_5": "359857"
                                },
                                {
                                    "book_id": "100915",
                                    "ratings_1": "19309",
                                    "ratings_5": "734629"
                                },
                                {
                                    "book_id": "113436",
                                    "ratings_1": "50563",
                                    "ratings_5": "408032"
                                },
                                {
                                    "book_id": "119322",
                                    "ratings_1": "38382",
                                    "ratings_5": "380030"
                                },
                                {
                                    "book_id": "128029",
                                    "ratings_1": "6509",
                                    "ratings_5": "446694"
                                },
                                {
                                    "book_id": "136251",
                                    "ratings_1": "9363",
                                    "ratings_5": "1318227"
                                },
                                {
                                    "book_id": "157993",
                                    "ratings_1": "15039",
                                    "ratings_5": "468227"
                                },
                                {
                                    "book_id": "227443",
                                    "ratings_1": "28973",
                                    "ratings_5": "212825"
                                },
                                {
                                    "book_id": "231804",
                                    "ratings_1": "10178",
                                    "ratings_5": "274419"
                                },
                                {
                                    "book_id": "256683",
                                    "ratings_1": "34122",
                                    "ratings_5": "582814"
                                },
                                {
                                    "book_id": "370493",
                                    "ratings_1": "15345",
                                    "ratings_5": "428921"
                                },
                                {
                                    "book_id": "375802",
                                    "ratings_1": "15330",
                                    "ratings_5": "462829"
                                },
                                {
                                    "book_id": "428263",
                                    "ratings_1": "83094",
                                    "ratings_5": "399134"
                                },
                                {
                                    "book_id": "1162543",
                                    "ratings_1": "100994",
                                    "ratings_5": "410714"
                                },
                                {
                                    "book_id": "1656001",
                                    "ratings_1": "44215",
                                    "ratings_5": "288758"
                                },
                                {
                                    "book_id": "2429135",
                                    "ratings_1": "54835",
                                    "ratings_5": "836050"
                                },
                                {
                                    "book_id": "2767052",
                                    "ratings_1": "66715",
                                    "ratings_5": "2706317"
                                },
                                {
                                    "book_id": "4667024",
                                    "ratings_1": "10235",
                                    "ratings_5": "942552"
                                },
                                {
                                    "book_id": "5060378",
                                    "ratings_1": "4623",
                                    "ratings_5": "279592"
                                },
                                {
                                    "book_id": "6148028",
                                    "ratings_1": "10492",
                                    "ratings_5": "980309"
                                },
                                {
                                    "book_id": "6186357",
                                    "ratings_1": "15291",
                                    "ratings_5": "302109"
                                },
                                {
                                    "book_id": "6442769",
                                    "ratings_1": "14105",
                                    "ratings_5": "215609"
                                },
                                {
                                    "book_id": "7260188",
                                    "ratings_1": "30144",
                                    "ratings_5": "738775"
                                },
                                {
                                    "book_id": "8442457",
                                    "ratings_1": "38874",
                                    "ratings_5": "610476"
                                },
                                {
                                    "book_id": "10818853",
                                    "ratings_1": "165455",
                                    "ratings_5": "571909"
                                },
                                {
                                    "book_id": "11735983",
                                    "ratings_1": "10641",
                                    "ratings_5": "369969"
                                },
                                {
                                    "book_id": "11870085",
                                    "ratings_1": "47994",
                                    "ratings_5": "1311871"
                                },
                                {
                                    "book_id": "12232938",
                                    "ratings_1": "62777",
                                    "ratings_5": "479323"
                                },
                                {
                                    "book_id": "13335037",
                                    "ratings_1": "36315",
                                    "ratings_5": "1114304"
                                },
                                {
                                    "book_id": "13536860",
                                    "ratings_1": "39079",
                                    "ratings_5": "265079"
                                },
                                {
                                    "book_id": "16068905",
                                    "ratings_1": "8626",
                                    "ratings_5": "164603"
                                },
                                {
                                    "book_id": "22557272",
                                    "ratings_1": "27773",
                                    "ratings_5": "362551"
                                }
                            ]
                        },
                        "text/html": "<table><tr><th>book_id</th><th>ratings_1</th><th>ratings_5</th></tr><tr><td>1</td><td>7308</td><td>1161491</td></tr><tr><td>2</td><td>9528</td><td>1124806</td></tr><tr><td>3</td><td>75504</td><td>3011543</td></tr><tr><td>5</td><td>6716</td><td>1266670</td></tr><tr><td>6</td><td>6676</td><td>1195045</td></tr><tr><td>11</td><td>21764</td><td>498001</td></tr><tr><td>34</td><td>38031</td><td>1042394</td></tr><tr><td>320</td><td>27340</td><td>267197</td></tr><tr><td>865</td><td>74846</td><td>504212</td></tr><tr><td>890</td><td>46630</td><td>473795</td></tr><tr><td>930</td><td>23500</td><td>559782</td></tr><tr><td>960</td><td>77841</td><td>680175</td></tr><tr><td>968</td><td>71345</td><td>479387</td></tr><tr><td>1202</td><td>14586</td><td>176072</td></tr><tr><td>1381</td><td>29703</td><td>208223</td></tr><tr><td>1617</td><td>7761</td><td>360777</td></tr><tr><td>1618</td><td>21049</td><td>262481</td></tr><tr><td>1845</td><td>19229</td><td>227095</td></tr><tr><td>1885</td><td>54700</td><td>1155673</td></tr><tr><td>1934</td><td>31645</td><td>535563</td></tr><tr><td>1953</td><td>28904</td><td>223571</td></tr><tr><td>2657</td><td>60427</td><td>1714267</td></tr><tr><td>2956</td><td>28467</td><td>296316</td></tr><tr><td>2998</td><td>8005</td><td>285570</td></tr><tr><td>3636</td><td>26497</td><td>585279</td></tr><tr><td>4214</td><td>39768</td><td>360466</td></tr><tr><td>4381</td><td>28366</td><td>419051</td></tr><tr><td>4671</td><td>86236</td><td>947718</td></tr><tr><td>4981</td><td>24964</td><td>367890</td></tr><tr><td>5107</td><td>109383</td><td>709176</td></tr><tr><td>5129</td><td>26367</td><td>383166</td></tr><tr><td>5139</td><td>24231</td><td>178250</td></tr><tr><td>5297</td><td>9825</td><td>257679</td></tr><tr><td>5470</td><td>41845</td><td>908229</td></tr><tr><td>5907</td><td>46023</td><td>1119718</td></tr><tr><td>6185</td><td>46469</td><td>346082</td></tr><tr><td>7445</td><td>7901</td><td>298102</td></tr><tr><td>7613</td><td>66854</td><td>648912</td></tr><tr><td>7624</td><td>92779</td><td>427846</td></tr><tr><td>7677</td><td>15736</td><td>230615</td></tr><tr><td>10210</td><td>35132</td><td>574221</td></tr><tr><td>10917</td><td>17547</td><td>350994</td></tr><tr><td>11588</td><td>18487</td><td>382158</td></tr><tr><td>13496</td><td>19988</td><td>874574</td></tr><tr><td>14050</td><td>44339</td><td>493884</td></tr><tr><td>14935</td><td>18430</td><td>311754</td></tr><tr><td>15881</td><td>8253</td><td>1065084</td></tr><tr><td>15931</td><td>41395</td><td>497194</td></tr><tr><td>17245</td><td>11756</td><td>243825</td></tr><tr><td>18135</td><td>57980</td><td>489235</td></tr><tr><td>18405</td><td>19996</td><td>493721</td></tr><tr><td>18490</td><td>29366</td><td>248538</td></tr><tr><td>19063</td><td>17892</td><td>722056</td></tr><tr><td>19501</td><td>100373</td><td>314272</td></tr><tr><td>21787</td><td>12883</td><td>338235</td></tr><tr><td>22628</td><td>14286</td><td>461020</td></tr><tr><td>24178</td><td>18450</td><td>487763</td></tr><tr><td>28187</td><td>18303</td><td>689365</td></tr><tr><td>30119</td><td>16590</td><td>544153</td></tr><tr><td>32542</td><td>12106</td><td>229488</td></tr><tr><td>37435</td><td>17500</td><td>341267</td></tr><tr><td>38709</td><td>15495</td><td>259257</td></tr><tr><td>41865</td><td>456191</td><td>1355439</td></tr><tr><td>43641</td><td>16705</td><td>424820</td></tr><tr><td>48855</td><td>45225</td><td>875372</td></tr><tr><td>49041</td><td>102837</td><td>350684</td></tr><tr><td>77203</td><td>34288</td><td>929591</td></tr><tr><td>99561</td><td>16940</td><td>359857</td></tr><tr><td>100915</td><td>19309</td><td>734629</td></tr><tr><td>113436</td><td>50563</td><td>408032</td></tr><tr><td>119322</td><td>38382</td><td>380030</td></tr><tr><td>128029</td><td>6509</td><td>446694</td></tr><tr><td>136251</td><td>9363</td><td>1318227</td></tr><tr><td>157993</td><td>15039</td><td>468227</td></tr><tr><td>227443</td><td>28973</td><td>212825</td></tr><tr><td>231804</td><td>10178</td><td>274419</td></tr><tr><td>256683</td><td>34122</td><td>582814</td></tr><tr><td>370493</td><td>15345</td><td>428921</td></tr><tr><td>375802</td><td>15330</td><td>462829</td></tr><tr><td>428263</td><td>83094</td><td>399134</td></tr><tr><td>1162543</td><td>100994</td><td>410714</td></tr><tr><td>1656001</td><td>44215</td><td>288758</td></tr><tr><td>2429135</td><td>54835</td><td>836050</td></tr><tr><td>2767052</td><td>66715</td><td>2706317</td></tr><tr><td>4667024</td><td>10235</td><td>942552</td></tr><tr><td>5060378</td><td>4623</td><td>279592</td></tr><tr><td>6148028</td><td>10492</td><td>980309</td></tr><tr><td>6186357</td><td>15291</td><td>302109</td></tr><tr><td>6442769</td><td>14105</td><td>215609</td></tr><tr><td>7260188</td><td>30144</td><td>738775</td></tr><tr><td>8442457</td><td>38874</td><td>610476</td></tr><tr><td>10818853</td><td>165455</td><td>571909</td></tr><tr><td>11735983</td><td>10641</td><td>369969</td></tr><tr><td>11870085</td><td>47994</td><td>1311871</td></tr><tr><td>12232938</td><td>62777</td><td>479323</td></tr><tr><td>13335037</td><td>36315</td><td>1114304</td></tr><tr><td>13536860</td><td>39079</td><td>265079</td></tr><tr><td>16068905</td><td>8626</td><td>164603</td></tr><tr><td>22557272</td><td>27773</td><td>362551</td></tr></table>"
                    },
                    "metadata": {}
                }
            ],
            "execution_count": 5
        },
        {
            "cell_type": "markdown",
            "source": [
                "4. Write a query that returns the book ids of books that have a language code of \"en-US\" and not a langugae code of \"en-GB\"."
            ],
            "metadata": {
                "azdata_cell_guid": "2bd4844b-83af-490f-97cd-fdc1fa2944ec"
            },
            "attachments": {}
        },
        {
            "cell_type": "code",
            "source": [
                "SELECT TOP 100 book_id FROM BooksDB.dbo.books WHERE language_code ='en-US'\n",
                "EXCEPT\n",
                "SELECT TOP 100 book_id FROM BooksDB.dbo.books\n",
                "WHERE language_code ='en-GB'"
            ],
            "metadata": {
                "azdata_cell_guid": "ba5a1b61-19c0-4d70-ae8d-2daae6ae1e21",
                "language": "sql"
            },
            "outputs": [
                {
                    "output_type": "display_data",
                    "data": {
                        "text/html": "(100 rows affected)"
                    },
                    "metadata": {}
                },
                {
                    "output_type": "display_data",
                    "data": {
                        "text/html": "Total execution time: 00:00:00.039"
                    },
                    "metadata": {}
                },
                {
                    "output_type": "execute_result",
                    "execution_count": 14,
                    "data": {
                        "application/vnd.dataresource+json": {
                            "schema": {
                                "fields": [
                                    {
                                        "name": "book_id"
                                    }
                                ]
                            },
                            "data": [
                                {
                                    "book_id": "11"
                                },
                                {
                                    "book_id": "21"
                                },
                                {
                                    "book_id": "50"
                                },
                                {
                                    "book_id": "1202"
                                },
                                {
                                    "book_id": "1898"
                                },
                                {
                                    "book_id": "1934"
                                },
                                {
                                    "book_id": "2187"
                                },
                                {
                                    "book_id": "3473"
                                },
                                {
                                    "book_id": "3478"
                                },
                                {
                                    "book_id": "3876"
                                },
                                {
                                    "book_id": "4138"
                                },
                                {
                                    "book_id": "4588"
                                },
                                {
                                    "book_id": "4929"
                                },
                                {
                                    "book_id": "4989"
                                },
                                {
                                    "book_id": "5168"
                                },
                                {
                                    "book_id": "5203"
                                },
                                {
                                    "book_id": "5526"
                                },
                                {
                                    "book_id": "5907"
                                },
                                {
                                    "book_id": "6327"
                                },
                                {
                                    "book_id": "6514"
                                },
                                {
                                    "book_id": "6853"
                                },
                                {
                                    "book_id": "6952"
                                },
                                {
                                    "book_id": "8908"
                                },
                                {
                                    "book_id": "10799"
                                },
                                {
                                    "book_id": "10916"
                                },
                                {
                                    "book_id": "10920"
                                },
                                {
                                    "book_id": "12067"
                                },
                                {
                                    "book_id": "12873"
                                },
                                {
                                    "book_id": "13137"
                                },
                                {
                                    "book_id": "13214"
                                },
                                {
                                    "book_id": "13497"
                                },
                                {
                                    "book_id": "14748"
                                },
                                {
                                    "book_id": "15241"
                                },
                                {
                                    "book_id": "18131"
                                },
                                {
                                    "book_id": "18342"
                                },
                                {
                                    "book_id": "18373"
                                },
                                {
                                    "book_id": "18512"
                                },
                                {
                                    "book_id": "21787"
                                },
                                {
                                    "book_id": "23772"
                                },
                                {
                                    "book_id": "28194"
                                },
                                {
                                    "book_id": "30183"
                                },
                                {
                                    "book_id": "32929"
                                },
                                {
                                    "book_id": "33724"
                                },
                                {
                                    "book_id": "33917"
                                },
                                {
                                    "book_id": "36072"
                                },
                                {
                                    "book_id": "37435"
                                },
                                {
                                    "book_id": "37781"
                                },
                                {
                                    "book_id": "40102"
                                },
                                {
                                    "book_id": "41865"
                                },
                                {
                                    "book_id": "43615"
                                },
                                {
                                    "book_id": "45978"
                                },
                                {
                                    "book_id": "47212"
                                },
                                {
                                    "book_id": "49436"
                                },
                                {
                                    "book_id": "51738"
                                },
                                {
                                    "book_id": "56495"
                                },
                                {
                                    "book_id": "66559"
                                },
                                {
                                    "book_id": "113436"
                                },
                                {
                                    "book_id": "119073"
                                },
                                {
                                    "book_id": "137791"
                                },
                                {
                                    "book_id": "149267"
                                },
                                {
                                    "book_id": "168668"
                                },
                                {
                                    "book_id": "191139"
                                },
                                {
                                    "book_id": "231804"
                                },
                                {
                                    "book_id": "242006"
                                },
                                {
                                    "book_id": "301082"
                                },
                                {
                                    "book_id": "345627"
                                },
                                {
                                    "book_id": "355697"
                                },
                                {
                                    "book_id": "366522"
                                },
                                {
                                    "book_id": "389627"
                                },
                                {
                                    "book_id": "428263"
                                },
                                {
                                    "book_id": "472331"
                                },
                                {
                                    "book_id": "567795"
                                },
                                {
                                    "book_id": "627206"
                                },
                                {
                                    "book_id": "676924"
                                },
                                {
                                    "book_id": "767680"
                                },
                                {
                                    "book_id": "1162543"
                                },
                                {
                                    "book_id": "1656001"
                                },
                                {
                                    "book_id": "2213661"
                                },
                                {
                                    "book_id": "2802316"
                                },
                                {
                                    "book_id": "3063499"
                                },
                                {
                                    "book_id": "3228917"
                                },
                                {
                                    "book_id": "3609760"
                                },
                                {
                                    "book_id": "3777732"
                                },
                                {
                                    "book_id": "3950967"
                                },
                                {
                                    "book_id": "3975774"
                                },
                                {
                                    "book_id": "4374400"
                                },
                                {
                                    "book_id": "5996153"
                                },
                                {
                                    "book_id": "6339664"
                                },
                                {
                                    "book_id": "6442769"
                                },
                                {
                                    "book_id": "6487308"
                                },
                                {
                                    "book_id": "6752378"
                                },
                                {
                                    "book_id": "6892870"
                                },
                                {
                                    "book_id": "6936382"
                                },
                                {
                                    "book_id": "6948436"
                                },
                                {
                                    "book_id": "7747374"
                                },
                                {
                                    "book_id": "7791997"
                                },
                                {
                                    "book_id": "9460487"
                                },
                                {
                                    "book_id": "10507293"
                                },
                                {
                                    "book_id": "16160797"
                                },
                                {
                                    "book_id": "18079776"
                                }
                            ]
                        },
                        "text/html": "<table><tr><th>book_id</th></tr><tr><td>11</td></tr><tr><td>21</td></tr><tr><td>50</td></tr><tr><td>1202</td></tr><tr><td>1898</td></tr><tr><td>1934</td></tr><tr><td>2187</td></tr><tr><td>3473</td></tr><tr><td>3478</td></tr><tr><td>3876</td></tr><tr><td>4138</td></tr><tr><td>4588</td></tr><tr><td>4929</td></tr><tr><td>4989</td></tr><tr><td>5168</td></tr><tr><td>5203</td></tr><tr><td>5526</td></tr><tr><td>5907</td></tr><tr><td>6327</td></tr><tr><td>6514</td></tr><tr><td>6853</td></tr><tr><td>6952</td></tr><tr><td>8908</td></tr><tr><td>10799</td></tr><tr><td>10916</td></tr><tr><td>10920</td></tr><tr><td>12067</td></tr><tr><td>12873</td></tr><tr><td>13137</td></tr><tr><td>13214</td></tr><tr><td>13497</td></tr><tr><td>14748</td></tr><tr><td>15241</td></tr><tr><td>18131</td></tr><tr><td>18342</td></tr><tr><td>18373</td></tr><tr><td>18512</td></tr><tr><td>21787</td></tr><tr><td>23772</td></tr><tr><td>28194</td></tr><tr><td>30183</td></tr><tr><td>32929</td></tr><tr><td>33724</td></tr><tr><td>33917</td></tr><tr><td>36072</td></tr><tr><td>37435</td></tr><tr><td>37781</td></tr><tr><td>40102</td></tr><tr><td>41865</td></tr><tr><td>43615</td></tr><tr><td>45978</td></tr><tr><td>47212</td></tr><tr><td>49436</td></tr><tr><td>51738</td></tr><tr><td>56495</td></tr><tr><td>66559</td></tr><tr><td>113436</td></tr><tr><td>119073</td></tr><tr><td>137791</td></tr><tr><td>149267</td></tr><tr><td>168668</td></tr><tr><td>191139</td></tr><tr><td>231804</td></tr><tr><td>242006</td></tr><tr><td>301082</td></tr><tr><td>345627</td></tr><tr><td>355697</td></tr><tr><td>366522</td></tr><tr><td>389627</td></tr><tr><td>428263</td></tr><tr><td>472331</td></tr><tr><td>567795</td></tr><tr><td>627206</td></tr><tr><td>676924</td></tr><tr><td>767680</td></tr><tr><td>1162543</td></tr><tr><td>1656001</td></tr><tr><td>2213661</td></tr><tr><td>2802316</td></tr><tr><td>3063499</td></tr><tr><td>3228917</td></tr><tr><td>3609760</td></tr><tr><td>3777732</td></tr><tr><td>3950967</td></tr><tr><td>3975774</td></tr><tr><td>4374400</td></tr><tr><td>5996153</td></tr><tr><td>6339664</td></tr><tr><td>6442769</td></tr><tr><td>6487308</td></tr><tr><td>6752378</td></tr><tr><td>6892870</td></tr><tr><td>6936382</td></tr><tr><td>6948436</td></tr><tr><td>7747374</td></tr><tr><td>7791997</td></tr><tr><td>9460487</td></tr><tr><td>10507293</td></tr><tr><td>16160797</td></tr><tr><td>18079776</td></tr></table>"
                    },
                    "metadata": {}
                }
            ],
            "execution_count": 14
        },
        {
            "cell_type": "markdown",
            "source": [
                "5. Write a query that returns the names of the tags and the tag ids for tags that were used over 100,000 times for a book. "
            ],
            "metadata": {
                "azdata_cell_guid": "6ddd588f-a84c-4c77-93ac-e8c8bd21d0f5"
            },
            "attachments": {}
        },
        {
            "cell_type": "code",
            "source": [
                "SELECT * \n",
                "FROM BooksDB.dbo.tags AS t \n",
                "WHERE t.tag_id IN\n",
                "    (SELECT bt.tag_id \n",
                "    FROM BooksDB.dbo.book_tags AS bt \n",
                "    GROUP BY bt.tag_id \n",
                "    HAVING SUM(bt.[count])>100000)\n",
                "\n",
                "\n",
                "\n",
                ""
            ],
            "metadata": {
                "language": "sql",
                "azdata_cell_guid": "9d551253-0155-402a-8551-1eed7489bbc0"
            },
            "outputs": [
                {
                    "output_type": "display_data",
                    "data": {
                        "text/html": "(99 rows affected)"
                    },
                    "metadata": {}
                },
                {
                    "output_type": "display_data",
                    "data": {
                        "text/html": "Total execution time: 00:00:00.218"
                    },
                    "metadata": {}
                },
                {
                    "output_type": "execute_result",
                    "metadata": {},
                    "execution_count": 19,
                    "data": {
                        "application/vnd.dataresource+json": {
                            "schema": {
                                "fields": [
                                    {
                                        "name": "tag_id"
                                    },
                                    {
                                        "name": "tag_name"
                                    }
                                ]
                            },
                            "data": [
                                {
                                    "tag_id": "3371",
                                    "tag_name": "audio"
                                },
                                {
                                    "tag_id": "11743",
                                    "tag_name": "fiction"
                                },
                                {
                                    "tag_id": "31617",
                                    "tag_name": "urban-fantasy"
                                },
                                {
                                    "tag_id": "29011",
                                    "tag_name": "supernatural"
                                },
                                {
                                    "tag_id": "26771",
                                    "tag_name": "sci-fi"
                                },
                                {
                                    "tag_id": "27669",
                                    "tag_name": "short-stories"
                                },
                                {
                                    "tag_id": "17213",
                                    "tag_name": "kindle"
                                },
                                {
                                    "tag_id": "18045",
                                    "tag_name": "library"
                                },
                                {
                                    "tag_id": "20849",
                                    "tag_name": "my-library"
                                },
                                {
                                    "tag_id": "6953",
                                    "tag_name": "childrens"
                                },
                                {
                                    "tag_id": "13547",
                                    "tag_name": "graphic-novel"
                                },
                                {
                                    "tag_id": "14552",
                                    "tag_name": "history"
                                },
                                {
                                    "tag_id": "19974",
                                    "tag_name": "middle-grade"
                                },
                                {
                                    "tag_id": "5090",
                                    "tag_name": "books"
                                },
                                {
                                    "tag_id": "25438",
                                    "tag_name": "realistic-fiction"
                                },
                                {
                                    "tag_id": "6857",
                                    "tag_name": "children"
                                },
                                {
                                    "tag_id": "14467",
                                    "tag_name": "historical"
                                },
                                {
                                    "tag_id": "3389",
                                    "tag_name": "audiobook"
                                },
                                {
                                    "tag_id": "26894",
                                    "tag_name": "scifi"
                                },
                                {
                                    "tag_id": "27199",
                                    "tag_name": "series"
                                },
                                {
                                    "tag_id": "17124",
                                    "tag_name": "kids"
                                },
                                {
                                    "tag_id": "1642",
                                    "tag_name": "adult"
                                },
                                {
                                    "tag_id": "7404",
                                    "tag_name": "classic"
                                },
                                {
                                    "tag_id": "21989",
                                    "tag_name": "novel"
                                },
                                {
                                    "tag_id": "6750",
                                    "tag_name": "chick-lit"
                                },
                                {
                                    "tag_id": "18367",
                                    "tag_name": "literature"
                                },
                                {
                                    "tag_id": "26735",
                                    "tag_name": "school"
                                },
                                {
                                    "tag_id": "31745",
                                    "tag_name": "vampires"
                                },
                                {
                                    "tag_id": "15048",
                                    "tag_name": "humor"
                                },
                                {
                                    "tag_id": "29452",
                                    "tag_name": "teen"
                                },
                                {
                                    "tag_id": "2104",
                                    "tag_name": "all-time-favorites"
                                },
                                {
                                    "tag_id": "8055",
                                    "tag_name": "contemporary"
                                },
                                {
                                    "tag_id": "7457",
                                    "tag_name": "classics"
                                },
                                {
                                    "tag_id": "10197",
                                    "tag_name": "ebook"
                                },
                                {
                                    "tag_id": "10210",
                                    "tag_name": "ebooks"
                                },
                                {
                                    "tag_id": "19052",
                                    "tag_name": "manga"
                                },
                                {
                                    "tag_id": "23605",
                                    "tag_name": "picture-books"
                                },
                                {
                                    "tag_id": "11497",
                                    "tag_name": "favorite"
                                },
                                {
                                    "tag_id": "3392",
                                    "tag_name": "audiobooks"
                                },
                                {
                                    "tag_id": "15169",
                                    "tag_name": "i-own"
                                },
                                {
                                    "tag_id": "24960",
                                    "tag_name": "re-read"
                                },
                                {
                                    "tag_id": "10064",
                                    "tag_name": "dystopian"
                                },
                                {
                                    "tag_id": "25150",
                                    "tag_name": "read-in-2014"
                                },
                                {
                                    "tag_id": "26816",
                                    "tag_name": "science"
                                },
                                {
                                    "tag_id": "26785",
                                    "tag_name": "sci-fi-fantasy"
                                },
                                {
                                    "tag_id": "30358",
                                    "tag_name": "thriller"
                                },
                                {
                                    "tag_id": "20774",
                                    "tag_name": "my-books"
                                },
                                {
                                    "tag_id": "8717",
                                    "tag_name": "currently-reading"
                                },
                                {
                                    "tag_id": "3358",
                                    "tag_name": "audible"
                                },
                                {
                                    "tag_id": "5207",
                                    "tag_name": "books-i-own"
                                },
                                {
                                    "tag_id": "32989",
                                    "tag_name": "ya"
                                },
                                {
                                    "tag_id": "9221",
                                    "tag_name": "default"
                                },
                                {
                                    "tag_id": "25149",
                                    "tag_name": "read-in-2013"
                                },
                                {
                                    "tag_id": "6895",
                                    "tag_name": "children-s-books"
                                },
                                {
                                    "tag_id": "21773",
                                    "tag_name": "nonfiction"
                                },
                                {
                                    "tag_id": "31723",
                                    "tag_name": "vampire"
                                },
                                {
                                    "tag_id": "23471",
                                    "tag_name": "philosophy"
                                },
                                {
                                    "tag_id": "26837",
                                    "tag_name": "science-fiction"
                                },
                                {
                                    "tag_id": "30521",
                                    "tag_name": "to-buy"
                                },
                                {
                                    "tag_id": "23831",
                                    "tag_name": "poetry"
                                },
                                {
                                    "tag_id": "21689",
                                    "tag_name": "non-fiction"
                                },
                                {
                                    "tag_id": "11305",
                                    "tag_name": "fantasy"
                                },
                                {
                                    "tag_id": "7778",
                                    "tag_name": "comics"
                                },
                                {
                                    "tag_id": "20939",
                                    "tag_name": "mystery"
                                },
                                {
                                    "tag_id": "22034",
                                    "tag_name": "novels"
                                },
                                {
                                    "tag_id": "33114",
                                    "tag_name": "young-adult"
                                },
                                {
                                    "tag_id": "22689",
                                    "tag_name": "own-it"
                                },
                                {
                                    "tag_id": "22753",
                                    "tag_name": "owned-books"
                                },
                                {
                                    "tag_id": "6888",
                                    "tag_name": "children-s"
                                },
                                {
                                    "tag_id": "1691",
                                    "tag_name": "adventure"
                                },
                                {
                                    "tag_id": "25151",
                                    "tag_name": "read-in-2015"
                                },
                                {
                                    "tag_id": "18886",
                                    "tag_name": "magic"
                                },
                                {
                                    "tag_id": "8076",
                                    "tag_name": "contemporary-romance"
                                },
                                {
                                    "tag_id": "22743",
                                    "tag_name": "owned"
                                },
                                {
                                    "tag_id": "14487",
                                    "tag_name": "historical-fiction"
                                },
                                {
                                    "tag_id": "29076",
                                    "tag_name": "suspense"
                                },
                                {
                                    "tag_id": "22983",
                                    "tag_name": "paranormal-romance"
                                },
                                {
                                    "tag_id": "4605",
                                    "tag_name": "biography"
                                },
                                {
                                    "tag_id": "6828",
                                    "tag_name": "childhood"
                                },
                                {
                                    "tag_id": "22973",
                                    "tag_name": "paranormal"
                                },
                                {
                                    "tag_id": "26138",
                                    "tag_name": "romance"
                                },
                                {
                                    "tag_id": "1659",
                                    "tag_name": "adult-fiction"
                                },
                                {
                                    "tag_id": "13561",
                                    "tag_name": "graphic-novels"
                                },
                                {
                                    "tag_id": "23743",
                                    "tag_name": "plays"
                                },
                                {
                                    "tag_id": "10644",
                                    "tag_name": "english"
                                },
                                {
                                    "tag_id": "8517",
                                    "tag_name": "crime"
                                },
                                {
                                    "tag_id": "11590",
                                    "tag_name": "favourites"
                                },
                                {
                                    "tag_id": "19733",
                                    "tag_name": "memoir"
                                },
                                {
                                    "tag_id": "11557",
                                    "tag_name": "favorites"
                                },
                                {
                                    "tag_id": "1416",
                                    "tag_name": "abandoned"
                                },
                                {
                                    "tag_id": "9886",
                                    "tag_name": "drama"
                                },
                                {
                                    "tag_id": "25148",
                                    "tag_name": "read-in-2012"
                                },
                                {
                                    "tag_id": "14821",
                                    "tag_name": "horror"
                                },
                                {
                                    "tag_id": "21387",
                                    "tag_name": "new-adult"
                                },
                                {
                                    "tag_id": "30574",
                                    "tag_name": "to-read"
                                },
                                {
                                    "tag_id": "32586",
                                    "tag_name": "wish-list"
                                },
                                {
                                    "tag_id": "4949",
                                    "tag_name": "book-club"
                                },
                                {
                                    "tag_id": "10059",
                                    "tag_name": "dystopia"
                                },
                                {
                                    "tag_id": "25152",
                                    "tag_name": "read-in-2016"
                                }
                            ]
                        },
                        "text/html": [
                            "<table>",
                            "<tr><th>tag_id</th><th>tag_name</th></tr>",
                            "<tr><td>3371</td><td>audio</td></tr>",
                            "<tr><td>11743</td><td>fiction</td></tr>",
                            "<tr><td>31617</td><td>urban-fantasy</td></tr>",
                            "<tr><td>29011</td><td>supernatural</td></tr>",
                            "<tr><td>26771</td><td>sci-fi</td></tr>",
                            "<tr><td>27669</td><td>short-stories</td></tr>",
                            "<tr><td>17213</td><td>kindle</td></tr>",
                            "<tr><td>18045</td><td>library</td></tr>",
                            "<tr><td>20849</td><td>my-library</td></tr>",
                            "<tr><td>6953</td><td>childrens</td></tr>",
                            "<tr><td>13547</td><td>graphic-novel</td></tr>",
                            "<tr><td>14552</td><td>history</td></tr>",
                            "<tr><td>19974</td><td>middle-grade</td></tr>",
                            "<tr><td>5090</td><td>books</td></tr>",
                            "<tr><td>25438</td><td>realistic-fiction</td></tr>",
                            "<tr><td>6857</td><td>children</td></tr>",
                            "<tr><td>14467</td><td>historical</td></tr>",
                            "<tr><td>3389</td><td>audiobook</td></tr>",
                            "<tr><td>26894</td><td>scifi</td></tr>",
                            "<tr><td>27199</td><td>series</td></tr>",
                            "<tr><td>17124</td><td>kids</td></tr>",
                            "<tr><td>1642</td><td>adult</td></tr>",
                            "<tr><td>7404</td><td>classic</td></tr>",
                            "<tr><td>21989</td><td>novel</td></tr>",
                            "<tr><td>6750</td><td>chick-lit</td></tr>",
                            "<tr><td>18367</td><td>literature</td></tr>",
                            "<tr><td>26735</td><td>school</td></tr>",
                            "<tr><td>31745</td><td>vampires</td></tr>",
                            "<tr><td>15048</td><td>humor</td></tr>",
                            "<tr><td>29452</td><td>teen</td></tr>",
                            "<tr><td>2104</td><td>all-time-favorites</td></tr>",
                            "<tr><td>8055</td><td>contemporary</td></tr>",
                            "<tr><td>7457</td><td>classics</td></tr>",
                            "<tr><td>10197</td><td>ebook</td></tr>",
                            "<tr><td>10210</td><td>ebooks</td></tr>",
                            "<tr><td>19052</td><td>manga</td></tr>",
                            "<tr><td>23605</td><td>picture-books</td></tr>",
                            "<tr><td>11497</td><td>favorite</td></tr>",
                            "<tr><td>3392</td><td>audiobooks</td></tr>",
                            "<tr><td>15169</td><td>i-own</td></tr>",
                            "<tr><td>24960</td><td>re-read</td></tr>",
                            "<tr><td>10064</td><td>dystopian</td></tr>",
                            "<tr><td>25150</td><td>read-in-2014</td></tr>",
                            "<tr><td>26816</td><td>science</td></tr>",
                            "<tr><td>26785</td><td>sci-fi-fantasy</td></tr>",
                            "<tr><td>30358</td><td>thriller</td></tr>",
                            "<tr><td>20774</td><td>my-books</td></tr>",
                            "<tr><td>8717</td><td>currently-reading</td></tr>",
                            "<tr><td>3358</td><td>audible</td></tr>",
                            "<tr><td>5207</td><td>books-i-own</td></tr>",
                            "<tr><td>32989</td><td>ya</td></tr>",
                            "<tr><td>9221</td><td>default</td></tr>",
                            "<tr><td>25149</td><td>read-in-2013</td></tr>",
                            "<tr><td>6895</td><td>children-s-books</td></tr>",
                            "<tr><td>21773</td><td>nonfiction</td></tr>",
                            "<tr><td>31723</td><td>vampire</td></tr>",
                            "<tr><td>23471</td><td>philosophy</td></tr>",
                            "<tr><td>26837</td><td>science-fiction</td></tr>",
                            "<tr><td>30521</td><td>to-buy</td></tr>",
                            "<tr><td>23831</td><td>poetry</td></tr>",
                            "<tr><td>21689</td><td>non-fiction</td></tr>",
                            "<tr><td>11305</td><td>fantasy</td></tr>",
                            "<tr><td>7778</td><td>comics</td></tr>",
                            "<tr><td>20939</td><td>mystery</td></tr>",
                            "<tr><td>22034</td><td>novels</td></tr>",
                            "<tr><td>33114</td><td>young-adult</td></tr>",
                            "<tr><td>22689</td><td>own-it</td></tr>",
                            "<tr><td>22753</td><td>owned-books</td></tr>",
                            "<tr><td>6888</td><td>children-s</td></tr>",
                            "<tr><td>1691</td><td>adventure</td></tr>",
                            "<tr><td>25151</td><td>read-in-2015</td></tr>",
                            "<tr><td>18886</td><td>magic</td></tr>",
                            "<tr><td>8076</td><td>contemporary-romance</td></tr>",
                            "<tr><td>22743</td><td>owned</td></tr>",
                            "<tr><td>14487</td><td>historical-fiction</td></tr>",
                            "<tr><td>29076</td><td>suspense</td></tr>",
                            "<tr><td>22983</td><td>paranormal-romance</td></tr>",
                            "<tr><td>4605</td><td>biography</td></tr>",
                            "<tr><td>6828</td><td>childhood</td></tr>",
                            "<tr><td>22973</td><td>paranormal</td></tr>",
                            "<tr><td>26138</td><td>romance</td></tr>",
                            "<tr><td>1659</td><td>adult-fiction</td></tr>",
                            "<tr><td>13561</td><td>graphic-novels</td></tr>",
                            "<tr><td>23743</td><td>plays</td></tr>",
                            "<tr><td>10644</td><td>english</td></tr>",
                            "<tr><td>8517</td><td>crime</td></tr>",
                            "<tr><td>11590</td><td>favourites</td></tr>",
                            "<tr><td>19733</td><td>memoir</td></tr>",
                            "<tr><td>11557</td><td>favorites</td></tr>",
                            "<tr><td>1416</td><td>abandoned</td></tr>",
                            "<tr><td>9886</td><td>drama</td></tr>",
                            "<tr><td>25148</td><td>read-in-2012</td></tr>",
                            "<tr><td>14821</td><td>horror</td></tr>",
                            "<tr><td>21387</td><td>new-adult</td></tr>",
                            "<tr><td>30574</td><td>to-read</td></tr>",
                            "<tr><td>32586</td><td>wish-list</td></tr>",
                            "<tr><td>4949</td><td>book-club</td></tr>",
                            "<tr><td>10059</td><td>dystopia</td></tr>",
                            "<tr><td>25152</td><td>read-in-2016</td></tr>",
                            "</table>"
                        ]
                    }
                }
            ],
            "execution_count": 19
        }
    ]
}