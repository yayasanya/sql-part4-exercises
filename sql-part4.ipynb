{
    "metadata": {
        "kernelspec": {
            "name": "SQL",
            "display_name": "SQL",
            "language": "sql"
        },
        "language_info": {
            "name": "sql",
            "version": ""
        }
    },
    "nbformat_minor": 2,
    "nbformat": 4,
    "cells": [
        {
            "cell_type": "markdown",
            "source": [
                "# Exercises: Complex queries\n",
                "\n",
                "For the exercises, you are tasked with writing five queries that will help you delve deeper into BooksDB. You can choose whether you want to use a correlated subquery, a nested subquery, the UNION operator, the INTERSECT operator, or the EXCEPT operator for each one. You may not use joins or add multiple statements to the WHERE clause.\n",
                "\n",
                "1. Write a query that will return the number of users who rated a book above it's average rating."
            ],
            "metadata": {
                "azdata_cell_guid": "10006a10-882f-4f55-8d42-f36044fdb6c7"
            },
            "attachments": {}
        },
        {
            "cell_type": "code",
            "source": [
                "SELECT TOP 100 COUNT(user_id) AS 'Number of ratings above average', r.book_id\n",
                "FROM BooksDB.dbo.ratings AS r \n",
                "WHERE rating >\n",
                "    (SELECT average_rating\n",
                "    FROM BooksDB.dbo.books as b \n",
                "    WHERE b.best_book_id=r.book_id)\n",
                "GROUP BY r.book_id\n",
                "ORDER BY 'Number of ratings above average' DESC"
            ],
            "metadata": {
                "azdata_cell_guid": "203eb95e-6585-435f-8a8e-bfa0dfe6f7c0",
                "tags": [],
                "language": "sql"
            },
            "outputs": [
                {
                    "output_type": "display_data",
                    "data": {
                        "text/html": "(100 rows affected)"
                    },
                    "metadata": {}
                },
                {
                    "output_type": "display_data",
                    "data": {
                        "text/html": "Total execution time: 00:00:00.563"
                    },
                    "metadata": {}
                },
                {
                    "output_type": "execute_result",
                    "execution_count": 1,
                    "data": {
                        "application/vnd.dataresource+json": {
                            "schema": {
                                "fields": [
                                    {
                                        "name": "Number of ratings above average"
                                    },
                                    {
                                        "name": "book_id"
                                    }
                                ]
                            },
                            "data": [
                                {
                                    "Number of ratings above average": "94",
                                    "book_id": "3648"
                                },
                                {
                                    "Number of ratings above average": "94",
                                    "book_id": "4708"
                                },
                                {
                                    "Number of ratings above average": "92",
                                    "book_id": "9569"
                                },
                                {
                                    "Number of ratings above average": "92",
                                    "book_id": "5113"
                                },
                                {
                                    "Number of ratings above average": "91",
                                    "book_id": "2865"
                                },
                                {
                                    "Number of ratings above average": "90",
                                    "book_id": "5344"
                                },
                                {
                                    "Number of ratings above average": "90",
                                    "book_id": "5346"
                                },
                                {
                                    "Number of ratings above average": "89",
                                    "book_id": "976"
                                },
                                {
                                    "Number of ratings above average": "89",
                                    "book_id": "6613"
                                },
                                {
                                    "Number of ratings above average": "89",
                                    "book_id": "2978"
                                },
                                {
                                    "Number of ratings above average": "89",
                                    "book_id": "2872"
                                },
                                {
                                    "Number of ratings above average": "88",
                                    "book_id": "4806"
                                },
                                {
                                    "Number of ratings above average": "88",
                                    "book_id": "6862"
                                },
                                {
                                    "Number of ratings above average": "88",
                                    "book_id": "250"
                                },
                                {
                                    "Number of ratings above average": "87",
                                    "book_id": "1618"
                                },
                                {
                                    "Number of ratings above average": "87",
                                    "book_id": "4921"
                                },
                                {
                                    "Number of ratings above average": "87",
                                    "book_id": "7039"
                                },
                                {
                                    "Number of ratings above average": "87",
                                    "book_id": "9712"
                                },
                                {
                                    "Number of ratings above average": "86",
                                    "book_id": "3483"
                                },
                                {
                                    "Number of ratings above average": "86",
                                    "book_id": "6462"
                                },
                                {
                                    "Number of ratings above average": "86",
                                    "book_id": "7993"
                                },
                                {
                                    "Number of ratings above average": "86",
                                    "book_id": "8492"
                                },
                                {
                                    "Number of ratings above average": "86",
                                    "book_id": "3679"
                                },
                                {
                                    "Number of ratings above average": "85",
                                    "book_id": "359"
                                },
                                {
                                    "Number of ratings above average": "85",
                                    "book_id": "7081"
                                },
                                {
                                    "Number of ratings above average": "85",
                                    "book_id": "365"
                                },
                                {
                                    "Number of ratings above average": "84",
                                    "book_id": "7455"
                                },
                                {
                                    "Number of ratings above average": "84",
                                    "book_id": "6193"
                                },
                                {
                                    "Number of ratings above average": "84",
                                    "book_id": "5481"
                                },
                                {
                                    "Number of ratings above average": "83",
                                    "book_id": "1274"
                                },
                                {
                                    "Number of ratings above average": "83",
                                    "book_id": "2956"
                                },
                                {
                                    "Number of ratings above average": "83",
                                    "book_id": "8909"
                                },
                                {
                                    "Number of ratings above average": "83",
                                    "book_id": "760"
                                },
                                {
                                    "Number of ratings above average": "83",
                                    "book_id": "4796"
                                },
                                {
                                    "Number of ratings above average": "83",
                                    "book_id": "4507"
                                },
                                {
                                    "Number of ratings above average": "83",
                                    "book_id": "5181"
                                },
                                {
                                    "Number of ratings above average": "83",
                                    "book_id": "4004"
                                },
                                {
                                    "Number of ratings above average": "82",
                                    "book_id": "6149"
                                },
                                {
                                    "Number of ratings above average": "82",
                                    "book_id": "3378"
                                },
                                {
                                    "Number of ratings above average": "82",
                                    "book_id": "5093"
                                },
                                {
                                    "Number of ratings above average": "82",
                                    "book_id": "2493"
                                },
                                {
                                    "Number of ratings above average": "82",
                                    "book_id": "7987"
                                },
                                {
                                    "Number of ratings above average": "82",
                                    "book_id": "295"
                                },
                                {
                                    "Number of ratings above average": "82",
                                    "book_id": "5129"
                                },
                                {
                                    "Number of ratings above average": "82",
                                    "book_id": "7999"
                                },
                                {
                                    "Number of ratings above average": "82",
                                    "book_id": "4325"
                                },
                                {
                                    "Number of ratings above average": "81",
                                    "book_id": "3692"
                                },
                                {
                                    "Number of ratings above average": "81",
                                    "book_id": "3110"
                                },
                                {
                                    "Number of ratings above average": "81",
                                    "book_id": "3698"
                                },
                                {
                                    "Number of ratings above average": "81",
                                    "book_id": "2175"
                                },
                                {
                                    "Number of ratings above average": "81",
                                    "book_id": "5182"
                                },
                                {
                                    "Number of ratings above average": "81",
                                    "book_id": "25"
                                },
                                {
                                    "Number of ratings above average": "81",
                                    "book_id": "890"
                                },
                                {
                                    "Number of ratings above average": "81",
                                    "book_id": "3836"
                                },
                                {
                                    "Number of ratings above average": "81",
                                    "book_id": "7061"
                                },
                                {
                                    "Number of ratings above average": "81",
                                    "book_id": "7613"
                                },
                                {
                                    "Number of ratings above average": "81",
                                    "book_id": "446"
                                },
                                {
                                    "Number of ratings above average": "80",
                                    "book_id": "27"
                                },
                                {
                                    "Number of ratings above average": "80",
                                    "book_id": "6185"
                                },
                                {
                                    "Number of ratings above average": "80",
                                    "book_id": "9998"
                                },
                                {
                                    "Number of ratings above average": "80",
                                    "book_id": "8852"
                                },
                                {
                                    "Number of ratings above average": "80",
                                    "book_id": "9010"
                                },
                                {
                                    "Number of ratings above average": "80",
                                    "book_id": "9912"
                                },
                                {
                                    "Number of ratings above average": "80",
                                    "book_id": "7073"
                                },
                                {
                                    "Number of ratings above average": "80",
                                    "book_id": "5068"
                                },
                                {
                                    "Number of ratings above average": "80",
                                    "book_id": "4271"
                                },
                                {
                                    "Number of ratings above average": "80",
                                    "book_id": "662"
                                },
                                {
                                    "Number of ratings above average": "80",
                                    "book_id": "665"
                                },
                                {
                                    "Number of ratings above average": "80",
                                    "book_id": "9784"
                                },
                                {
                                    "Number of ratings above average": "80",
                                    "book_id": "8089"
                                },
                                {
                                    "Number of ratings above average": "80",
                                    "book_id": "8087"
                                },
                                {
                                    "Number of ratings above average": "80",
                                    "book_id": "5180"
                                },
                                {
                                    "Number of ratings above average": "80",
                                    "book_id": "5659"
                                },
                                {
                                    "Number of ratings above average": "80",
                                    "book_id": "50"
                                },
                                {
                                    "Number of ratings above average": "79",
                                    "book_id": "900"
                                },
                                {
                                    "Number of ratings above average": "79",
                                    "book_id": "1192"
                                },
                                {
                                    "Number of ratings above average": "79",
                                    "book_id": "4381"
                                },
                                {
                                    "Number of ratings above average": "79",
                                    "book_id": "3873"
                                },
                                {
                                    "Number of ratings above average": "79",
                                    "book_id": "4122"
                                },
                                {
                                    "Number of ratings above average": "79",
                                    "book_id": "7979"
                                },
                                {
                                    "Number of ratings above average": "79",
                                    "book_id": "7679"
                                },
                                {
                                    "Number of ratings above average": "79",
                                    "book_id": "4006"
                                },
                                {
                                    "Number of ratings above average": "79",
                                    "book_id": "98"
                                },
                                {
                                    "Number of ratings above average": "79",
                                    "book_id": "9566"
                                },
                                {
                                    "Number of ratings above average": "79",
                                    "book_id": "6872"
                                },
                                {
                                    "Number of ratings above average": "79",
                                    "book_id": "1519"
                                },
                                {
                                    "Number of ratings above average": "79",
                                    "book_id": "8648"
                                },
                                {
                                    "Number of ratings above average": "79",
                                    "book_id": "9597"
                                },
                                {
                                    "Number of ratings above average": "78",
                                    "book_id": "9298"
                                },
                                {
                                    "Number of ratings above average": "78",
                                    "book_id": "6419"
                                },
                                {
                                    "Number of ratings above average": "78",
                                    "book_id": "5204"
                                },
                                {
                                    "Number of ratings above average": "78",
                                    "book_id": "5369"
                                },
                                {
                                    "Number of ratings above average": "78",
                                    "book_id": "6697"
                                },
                                {
                                    "Number of ratings above average": "78",
                                    "book_id": "456"
                                },
                                {
                                    "Number of ratings above average": "78",
                                    "book_id": "7672"
                                },
                                {
                                    "Number of ratings above average": "78",
                                    "book_id": "93"
                                },
                                {
                                    "Number of ratings above average": "78",
                                    "book_id": "291"
                                },
                                {
                                    "Number of ratings above average": "78",
                                    "book_id": "7035"
                                },
                                {
                                    "Number of ratings above average": "78",
                                    "book_id": "5849"
                                },
                                {
                                    "Number of ratings above average": "77",
                                    "book_id": "7669"
                                }
                            ]
                        },
                        "text/html": "<table><tr><th>Number of ratings above average</th><th>book_id</th></tr><tr><td>94</td><td>3648</td></tr><tr><td>94</td><td>4708</td></tr><tr><td>92</td><td>9569</td></tr><tr><td>92</td><td>5113</td></tr><tr><td>91</td><td>2865</td></tr><tr><td>90</td><td>5344</td></tr><tr><td>90</td><td>5346</td></tr><tr><td>89</td><td>976</td></tr><tr><td>89</td><td>6613</td></tr><tr><td>89</td><td>2978</td></tr><tr><td>89</td><td>2872</td></tr><tr><td>88</td><td>4806</td></tr><tr><td>88</td><td>6862</td></tr><tr><td>88</td><td>250</td></tr><tr><td>87</td><td>1618</td></tr><tr><td>87</td><td>4921</td></tr><tr><td>87</td><td>7039</td></tr><tr><td>87</td><td>9712</td></tr><tr><td>86</td><td>3483</td></tr><tr><td>86</td><td>6462</td></tr><tr><td>86</td><td>7993</td></tr><tr><td>86</td><td>8492</td></tr><tr><td>86</td><td>3679</td></tr><tr><td>85</td><td>359</td></tr><tr><td>85</td><td>7081</td></tr><tr><td>85</td><td>365</td></tr><tr><td>84</td><td>7455</td></tr><tr><td>84</td><td>6193</td></tr><tr><td>84</td><td>5481</td></tr><tr><td>83</td><td>1274</td></tr><tr><td>83</td><td>2956</td></tr><tr><td>83</td><td>8909</td></tr><tr><td>83</td><td>760</td></tr><tr><td>83</td><td>4796</td></tr><tr><td>83</td><td>4507</td></tr><tr><td>83</td><td>5181</td></tr><tr><td>83</td><td>4004</td></tr><tr><td>82</td><td>6149</td></tr><tr><td>82</td><td>3378</td></tr><tr><td>82</td><td>5093</td></tr><tr><td>82</td><td>2493</td></tr><tr><td>82</td><td>7987</td></tr><tr><td>82</td><td>295</td></tr><tr><td>82</td><td>5129</td></tr><tr><td>82</td><td>7999</td></tr><tr><td>82</td><td>4325</td></tr><tr><td>81</td><td>3692</td></tr><tr><td>81</td><td>3110</td></tr><tr><td>81</td><td>3698</td></tr><tr><td>81</td><td>2175</td></tr><tr><td>81</td><td>5182</td></tr><tr><td>81</td><td>25</td></tr><tr><td>81</td><td>890</td></tr><tr><td>81</td><td>3836</td></tr><tr><td>81</td><td>7061</td></tr><tr><td>81</td><td>7613</td></tr><tr><td>81</td><td>446</td></tr><tr><td>80</td><td>27</td></tr><tr><td>80</td><td>6185</td></tr><tr><td>80</td><td>9998</td></tr><tr><td>80</td><td>8852</td></tr><tr><td>80</td><td>9010</td></tr><tr><td>80</td><td>9912</td></tr><tr><td>80</td><td>7073</td></tr><tr><td>80</td><td>5068</td></tr><tr><td>80</td><td>4271</td></tr><tr><td>80</td><td>662</td></tr><tr><td>80</td><td>665</td></tr><tr><td>80</td><td>9784</td></tr><tr><td>80</td><td>8089</td></tr><tr><td>80</td><td>8087</td></tr><tr><td>80</td><td>5180</td></tr><tr><td>80</td><td>5659</td></tr><tr><td>80</td><td>50</td></tr><tr><td>79</td><td>900</td></tr><tr><td>79</td><td>1192</td></tr><tr><td>79</td><td>4381</td></tr><tr><td>79</td><td>3873</td></tr><tr><td>79</td><td>4122</td></tr><tr><td>79</td><td>7979</td></tr><tr><td>79</td><td>7679</td></tr><tr><td>79</td><td>4006</td></tr><tr><td>79</td><td>98</td></tr><tr><td>79</td><td>9566</td></tr><tr><td>79</td><td>6872</td></tr><tr><td>79</td><td>1519</td></tr><tr><td>79</td><td>8648</td></tr><tr><td>79</td><td>9597</td></tr><tr><td>78</td><td>9298</td></tr><tr><td>78</td><td>6419</td></tr><tr><td>78</td><td>5204</td></tr><tr><td>78</td><td>5369</td></tr><tr><td>78</td><td>6697</td></tr><tr><td>78</td><td>456</td></tr><tr><td>78</td><td>7672</td></tr><tr><td>78</td><td>93</td></tr><tr><td>78</td><td>291</td></tr><tr><td>78</td><td>7035</td></tr><tr><td>78</td><td>5849</td></tr><tr><td>77</td><td>7669</td></tr></table>"
                    },
                    "metadata": {}
                }
            ],
            "execution_count": 1
        },
        {
            "cell_type": "markdown",
            "source": [
                "2. Write a query that returns the book ids of all books that have over 1000 ratings of 1 star or over 1000 ratings of 5 stars."
            ],
            "metadata": {
                "azdata_cell_guid": "7f849931-6c9c-4cd9-b3ba-66871052673d"
            },
            "attachments": {}
        },
        {
            "cell_type": "code",
            "source": [
                "SELECT TOP 100 book_id, ratings_1, ratings_5 FROM (\n",
                "SELECT book_id,ratings_1, ratings_5 FROM BooksDB.dbo.books WHERE ratings_1 > 1000\n",
                "UNION\n",
                "SELECT book_id,ratings_1, ratings_5 FROM BooksDB.dbo.books WHERE ratings_5 > 1000) a \n",
                "ORDER BY book_id\n",
                ""
            ],
            "metadata": {
                "azdata_cell_guid": "bce732e3-1590-457b-b1f9-5319345ff790",
                "language": "sql",
                "tags": []
            },
            "outputs": [
                {
                    "output_type": "display_data",
                    "data": {
                        "text/html": "(100 rows affected)"
                    },
                    "metadata": {}
                },
                {
                    "output_type": "display_data",
                    "data": {
                        "text/html": "Total execution time: 00:00:00.079"
                    },
                    "metadata": {}
                },
                {
                    "output_type": "execute_result",
                    "execution_count": 31,
                    "data": {
                        "application/vnd.dataresource+json": {
                            "schema": {
                                "fields": [
                                    {
                                        "name": "book_id"
                                    },
                                    {
                                        "name": "ratings_1"
                                    },
                                    {
                                        "name": "ratings_5"
                                    }
                                ]
                            },
                            "data": [
                                {
                                    "book_id": "1",
                                    "ratings_1": "7308",
                                    "ratings_5": "1161491"
                                },
                                {
                                    "book_id": "2",
                                    "ratings_1": "9528",
                                    "ratings_5": "1124806"
                                },
                                {
                                    "book_id": "3",
                                    "ratings_1": "75504",
                                    "ratings_5": "3011543"
                                },
                                {
                                    "book_id": "5",
                                    "ratings_1": "6716",
                                    "ratings_5": "1266670"
                                },
                                {
                                    "book_id": "6",
                                    "ratings_1": "6676",
                                    "ratings_5": "1195045"
                                },
                                {
                                    "book_id": "8",
                                    "ratings_1": "317",
                                    "ratings_5": "28210"
                                },
                                {
                                    "book_id": "10",
                                    "ratings_1": "203",
                                    "ratings_5": "21048"
                                },
                                {
                                    "book_id": "11",
                                    "ratings_1": "21764",
                                    "ratings_5": "498001"
                                },
                                {
                                    "book_id": "13",
                                    "ratings_1": "2657",
                                    "ratings_5": "136349"
                                },
                                {
                                    "book_id": "21",
                                    "ratings_1": "3514",
                                    "ratings_5": "94131"
                                },
                                {
                                    "book_id": "24",
                                    "ratings_1": "607",
                                    "ratings_5": "22665"
                                },
                                {
                                    "book_id": "25",
                                    "ratings_1": "601",
                                    "ratings_5": "13808"
                                },
                                {
                                    "book_id": "26",
                                    "ratings_1": "1100",
                                    "ratings_5": "11930"
                                },
                                {
                                    "book_id": "27",
                                    "ratings_1": "874",
                                    "ratings_5": "13303"
                                },
                                {
                                    "book_id": "28",
                                    "ratings_1": "1073",
                                    "ratings_5": "21366"
                                },
                                {
                                    "book_id": "29",
                                    "ratings_1": "333",
                                    "ratings_5": "8303"
                                },
                                {
                                    "book_id": "30",
                                    "ratings_1": "826",
                                    "ratings_5": "66440"
                                },
                                {
                                    "book_id": "33",
                                    "ratings_1": "4807",
                                    "ratings_5": "277592"
                                },
                                {
                                    "book_id": "34",
                                    "ratings_1": "38031",
                                    "ratings_5": "1042394"
                                },
                                {
                                    "book_id": "36",
                                    "ratings_1": "297",
                                    "ratings_5": "13033"
                                },
                                {
                                    "book_id": "50",
                                    "ratings_1": "12070",
                                    "ratings_5": "65144"
                                },
                                {
                                    "book_id": "67",
                                    "ratings_1": "831",
                                    "ratings_5": "8530"
                                },
                                {
                                    "book_id": "93",
                                    "ratings_1": "2236",
                                    "ratings_5": "55942"
                                },
                                {
                                    "book_id": "98",
                                    "ratings_1": "359",
                                    "ratings_5": "4185"
                                },
                                {
                                    "book_id": "105",
                                    "ratings_1": "676",
                                    "ratings_5": "12201"
                                },
                                {
                                    "book_id": "106",
                                    "ratings_1": "1026",
                                    "ratings_5": "24290"
                                },
                                {
                                    "book_id": "112",
                                    "ratings_1": "861",
                                    "ratings_5": "23589"
                                },
                                {
                                    "book_id": "117",
                                    "ratings_1": "715",
                                    "ratings_5": "12732"
                                },
                                {
                                    "book_id": "119",
                                    "ratings_1": "211",
                                    "ratings_5": "17219"
                                },
                                {
                                    "book_id": "122",
                                    "ratings_1": "698",
                                    "ratings_5": "32790"
                                },
                                {
                                    "book_id": "231",
                                    "ratings_1": "1481",
                                    "ratings_5": "3766"
                                },
                                {
                                    "book_id": "249",
                                    "ratings_1": "2313",
                                    "ratings_5": "14025"
                                },
                                {
                                    "book_id": "250",
                                    "ratings_1": "352",
                                    "ratings_5": "4038"
                                },
                                {
                                    "book_id": "264",
                                    "ratings_1": "1935",
                                    "ratings_5": "16753"
                                },
                                {
                                    "book_id": "275",
                                    "ratings_1": "656",
                                    "ratings_5": "6831"
                                },
                                {
                                    "book_id": "291",
                                    "ratings_1": "272",
                                    "ratings_5": "4324"
                                },
                                {
                                    "book_id": "295",
                                    "ratings_1": "5349",
                                    "ratings_5": "84584"
                                },
                                {
                                    "book_id": "304",
                                    "ratings_1": "543",
                                    "ratings_5": "5701"
                                },
                                {
                                    "book_id": "320",
                                    "ratings_1": "27340",
                                    "ratings_5": "267197"
                                },
                                {
                                    "book_id": "343",
                                    "ratings_1": "5659",
                                    "ratings_5": "83771"
                                },
                                {
                                    "book_id": "348",
                                    "ratings_1": "132",
                                    "ratings_5": "6007"
                                },
                                {
                                    "book_id": "350",
                                    "ratings_1": "10416",
                                    "ratings_5": "87322"
                                },
                                {
                                    "book_id": "353",
                                    "ratings_1": "663",
                                    "ratings_5": "10251"
                                },
                                {
                                    "book_id": "355",
                                    "ratings_1": "349",
                                    "ratings_5": "4264"
                                },
                                {
                                    "book_id": "357",
                                    "ratings_1": "393",
                                    "ratings_5": "22898"
                                },
                                {
                                    "book_id": "359",
                                    "ratings_1": "183",
                                    "ratings_5": "6852"
                                },
                                {
                                    "book_id": "360",
                                    "ratings_1": "856",
                                    "ratings_5": "28938"
                                },
                                {
                                    "book_id": "365",
                                    "ratings_1": "993",
                                    "ratings_5": "32064"
                                },
                                {
                                    "book_id": "378",
                                    "ratings_1": "2848",
                                    "ratings_5": "91467"
                                },
                                {
                                    "book_id": "386",
                                    "ratings_1": "221",
                                    "ratings_5": "2382"
                                },
                                {
                                    "book_id": "400",
                                    "ratings_1": "156",
                                    "ratings_5": "3600"
                                },
                                {
                                    "book_id": "415",
                                    "ratings_1": "1465",
                                    "ratings_5": "13216"
                                },
                                {
                                    "book_id": "424",
                                    "ratings_1": "146",
                                    "ratings_5": "9265"
                                },
                                {
                                    "book_id": "428",
                                    "ratings_1": "321",
                                    "ratings_5": "5364"
                                },
                                {
                                    "book_id": "431",
                                    "ratings_1": "807",
                                    "ratings_5": "13315"
                                },
                                {
                                    "book_id": "432",
                                    "ratings_1": "230",
                                    "ratings_5": "3015"
                                },
                                {
                                    "book_id": "446",
                                    "ratings_1": "241",
                                    "ratings_5": "4161"
                                },
                                {
                                    "book_id": "447",
                                    "ratings_1": "149",
                                    "ratings_5": "4676"
                                },
                                {
                                    "book_id": "449",
                                    "ratings_1": "240",
                                    "ratings_5": "2102"
                                },
                                {
                                    "book_id": "456",
                                    "ratings_1": "105",
                                    "ratings_5": "3350"
                                },
                                {
                                    "book_id": "475",
                                    "ratings_1": "779",
                                    "ratings_5": "13886"
                                },
                                {
                                    "book_id": "597",
                                    "ratings_1": "457",
                                    "ratings_5": "6475"
                                },
                                {
                                    "book_id": "599",
                                    "ratings_1": "1756",
                                    "ratings_5": "15010"
                                },
                                {
                                    "book_id": "621",
                                    "ratings_1": "211",
                                    "ratings_5": "3554"
                                },
                                {
                                    "book_id": "629",
                                    "ratings_1": "6589",
                                    "ratings_5": "47106"
                                },
                                {
                                    "book_id": "647",
                                    "ratings_1": "415",
                                    "ratings_5": "5870"
                                },
                                {
                                    "book_id": "656",
                                    "ratings_1": "4952",
                                    "ratings_5": "86430"
                                },
                                {
                                    "book_id": "662",
                                    "ratings_1": "30901",
                                    "ratings_5": "105796"
                                },
                                {
                                    "book_id": "665",
                                    "ratings_1": "1337",
                                    "ratings_5": "2974"
                                },
                                {
                                    "book_id": "667",
                                    "ratings_1": "6095",
                                    "ratings_5": "27631"
                                },
                                {
                                    "book_id": "668",
                                    "ratings_1": "647",
                                    "ratings_5": "7583"
                                },
                                {
                                    "book_id": "676",
                                    "ratings_1": "213",
                                    "ratings_5": "5413"
                                },
                                {
                                    "book_id": "698",
                                    "ratings_1": "290",
                                    "ratings_5": "2348"
                                },
                                {
                                    "book_id": "703",
                                    "ratings_1": "633",
                                    "ratings_5": "5926"
                                },
                                {
                                    "book_id": "706",
                                    "ratings_1": "1072",
                                    "ratings_5": "27566"
                                },
                                {
                                    "book_id": "760",
                                    "ratings_1": "1379",
                                    "ratings_5": "9554"
                                },
                                {
                                    "book_id": "771",
                                    "ratings_1": "1482",
                                    "ratings_5": "26414"
                                },
                                {
                                    "book_id": "816",
                                    "ratings_1": "1223",
                                    "ratings_5": "40317"
                                },
                                {
                                    "book_id": "822",
                                    "ratings_1": "144",
                                    "ratings_5": "8809"
                                },
                                {
                                    "book_id": "823",
                                    "ratings_1": "997",
                                    "ratings_5": "10892"
                                },
                                {
                                    "book_id": "825",
                                    "ratings_1": "118",
                                    "ratings_5": "2750"
                                },
                                {
                                    "book_id": "827",
                                    "ratings_1": "602",
                                    "ratings_5": "29375"
                                },
                                {
                                    "book_id": "830",
                                    "ratings_1": "7982",
                                    "ratings_5": "78211"
                                },
                                {
                                    "book_id": "840",
                                    "ratings_1": "88",
                                    "ratings_5": "6284"
                                },
                                {
                                    "book_id": "865",
                                    "ratings_1": "74846",
                                    "ratings_5": "504212"
                                },
                                {
                                    "book_id": "870",
                                    "ratings_1": "972",
                                    "ratings_5": "61574"
                                },
                                {
                                    "book_id": "880",
                                    "ratings_1": "344",
                                    "ratings_5": "6229"
                                },
                                {
                                    "book_id": "890",
                                    "ratings_1": "46630",
                                    "ratings_5": "473795"
                                },
                                {
                                    "book_id": "900",
                                    "ratings_1": "702",
                                    "ratings_5": "5081"
                                },
                                {
                                    "book_id": "902",
                                    "ratings_1": "2682",
                                    "ratings_5": "49122"
                                },
                                {
                                    "book_id": "903",
                                    "ratings_1": "798",
                                    "ratings_5": "8393"
                                },
                                {
                                    "book_id": "930",
                                    "ratings_1": "23500",
                                    "ratings_5": "559782"
                                },
                                {
                                    "book_id": "952",
                                    "ratings_1": "97",
                                    "ratings_5": "5592"
                                },
                                {
                                    "book_id": "960",
                                    "ratings_1": "77841",
                                    "ratings_5": "680175"
                                },
                                {
                                    "book_id": "968",
                                    "ratings_1": "71345",
                                    "ratings_5": "479387"
                                },
                                {
                                    "book_id": "976",
                                    "ratings_1": "14380",
                                    "ratings_5": "116346"
                                },
                                {
                                    "book_id": "998",
                                    "ratings_1": "645",
                                    "ratings_5": "16738"
                                },
                                {
                                    "book_id": "1005",
                                    "ratings_1": "2764",
                                    "ratings_5": "57472"
                                },
                                {
                                    "book_id": "1032",
                                    "ratings_1": "614",
                                    "ratings_5": "2933"
                                },
                                {
                                    "book_id": "1052",
                                    "ratings_1": "734",
                                    "ratings_5": "27465"
                                }
                            ]
                        },
                        "text/html": "<table><tr><th>book_id</th><th>ratings_1</th><th>ratings_5</th></tr><tr><td>1</td><td>7308</td><td>1161491</td></tr><tr><td>2</td><td>9528</td><td>1124806</td></tr><tr><td>3</td><td>75504</td><td>3011543</td></tr><tr><td>5</td><td>6716</td><td>1266670</td></tr><tr><td>6</td><td>6676</td><td>1195045</td></tr><tr><td>8</td><td>317</td><td>28210</td></tr><tr><td>10</td><td>203</td><td>21048</td></tr><tr><td>11</td><td>21764</td><td>498001</td></tr><tr><td>13</td><td>2657</td><td>136349</td></tr><tr><td>21</td><td>3514</td><td>94131</td></tr><tr><td>24</td><td>607</td><td>22665</td></tr><tr><td>25</td><td>601</td><td>13808</td></tr><tr><td>26</td><td>1100</td><td>11930</td></tr><tr><td>27</td><td>874</td><td>13303</td></tr><tr><td>28</td><td>1073</td><td>21366</td></tr><tr><td>29</td><td>333</td><td>8303</td></tr><tr><td>30</td><td>826</td><td>66440</td></tr><tr><td>33</td><td>4807</td><td>277592</td></tr><tr><td>34</td><td>38031</td><td>1042394</td></tr><tr><td>36</td><td>297</td><td>13033</td></tr><tr><td>50</td><td>12070</td><td>65144</td></tr><tr><td>67</td><td>831</td><td>8530</td></tr><tr><td>93</td><td>2236</td><td>55942</td></tr><tr><td>98</td><td>359</td><td>4185</td></tr><tr><td>105</td><td>676</td><td>12201</td></tr><tr><td>106</td><td>1026</td><td>24290</td></tr><tr><td>112</td><td>861</td><td>23589</td></tr><tr><td>117</td><td>715</td><td>12732</td></tr><tr><td>119</td><td>211</td><td>17219</td></tr><tr><td>122</td><td>698</td><td>32790</td></tr><tr><td>231</td><td>1481</td><td>3766</td></tr><tr><td>249</td><td>2313</td><td>14025</td></tr><tr><td>250</td><td>352</td><td>4038</td></tr><tr><td>264</td><td>1935</td><td>16753</td></tr><tr><td>275</td><td>656</td><td>6831</td></tr><tr><td>291</td><td>272</td><td>4324</td></tr><tr><td>295</td><td>5349</td><td>84584</td></tr><tr><td>304</td><td>543</td><td>5701</td></tr><tr><td>320</td><td>27340</td><td>267197</td></tr><tr><td>343</td><td>5659</td><td>83771</td></tr><tr><td>348</td><td>132</td><td>6007</td></tr><tr><td>350</td><td>10416</td><td>87322</td></tr><tr><td>353</td><td>663</td><td>10251</td></tr><tr><td>355</td><td>349</td><td>4264</td></tr><tr><td>357</td><td>393</td><td>22898</td></tr><tr><td>359</td><td>183</td><td>6852</td></tr><tr><td>360</td><td>856</td><td>28938</td></tr><tr><td>365</td><td>993</td><td>32064</td></tr><tr><td>378</td><td>2848</td><td>91467</td></tr><tr><td>386</td><td>221</td><td>2382</td></tr><tr><td>400</td><td>156</td><td>3600</td></tr><tr><td>415</td><td>1465</td><td>13216</td></tr><tr><td>424</td><td>146</td><td>9265</td></tr><tr><td>428</td><td>321</td><td>5364</td></tr><tr><td>431</td><td>807</td><td>13315</td></tr><tr><td>432</td><td>230</td><td>3015</td></tr><tr><td>446</td><td>241</td><td>4161</td></tr><tr><td>447</td><td>149</td><td>4676</td></tr><tr><td>449</td><td>240</td><td>2102</td></tr><tr><td>456</td><td>105</td><td>3350</td></tr><tr><td>475</td><td>779</td><td>13886</td></tr><tr><td>597</td><td>457</td><td>6475</td></tr><tr><td>599</td><td>1756</td><td>15010</td></tr><tr><td>621</td><td>211</td><td>3554</td></tr><tr><td>629</td><td>6589</td><td>47106</td></tr><tr><td>647</td><td>415</td><td>5870</td></tr><tr><td>656</td><td>4952</td><td>86430</td></tr><tr><td>662</td><td>30901</td><td>105796</td></tr><tr><td>665</td><td>1337</td><td>2974</td></tr><tr><td>667</td><td>6095</td><td>27631</td></tr><tr><td>668</td><td>647</td><td>7583</td></tr><tr><td>676</td><td>213</td><td>5413</td></tr><tr><td>698</td><td>290</td><td>2348</td></tr><tr><td>703</td><td>633</td><td>5926</td></tr><tr><td>706</td><td>1072</td><td>27566</td></tr><tr><td>760</td><td>1379</td><td>9554</td></tr><tr><td>771</td><td>1482</td><td>26414</td></tr><tr><td>816</td><td>1223</td><td>40317</td></tr><tr><td>822</td><td>144</td><td>8809</td></tr><tr><td>823</td><td>997</td><td>10892</td></tr><tr><td>825</td><td>118</td><td>2750</td></tr><tr><td>827</td><td>602</td><td>29375</td></tr><tr><td>830</td><td>7982</td><td>78211</td></tr><tr><td>840</td><td>88</td><td>6284</td></tr><tr><td>865</td><td>74846</td><td>504212</td></tr><tr><td>870</td><td>972</td><td>61574</td></tr><tr><td>880</td><td>344</td><td>6229</td></tr><tr><td>890</td><td>46630</td><td>473795</td></tr><tr><td>900</td><td>702</td><td>5081</td></tr><tr><td>902</td><td>2682</td><td>49122</td></tr><tr><td>903</td><td>798</td><td>8393</td></tr><tr><td>930</td><td>23500</td><td>559782</td></tr><tr><td>952</td><td>97</td><td>5592</td></tr><tr><td>960</td><td>77841</td><td>680175</td></tr><tr><td>968</td><td>71345</td><td>479387</td></tr><tr><td>976</td><td>14380</td><td>116346</td></tr><tr><td>998</td><td>645</td><td>16738</td></tr><tr><td>1005</td><td>2764</td><td>57472</td></tr><tr><td>1032</td><td>614</td><td>2933</td></tr><tr><td>1052</td><td>734</td><td>27465</td></tr></table>"
                    },
                    "metadata": {}
                }
            ],
            "execution_count": 31
        },
        {
            "cell_type": "markdown",
            "source": [
                "3. Write a query that returns the book ids of all books that have over 1000 ratings of 1 star and over 1000 ratings of 5 stars."
            ],
            "metadata": {
                "azdata_cell_guid": "9c53b866-c8e8-465e-b089-7702b191a15e"
            },
            "attachments": {}
        },
        {
            "cell_type": "code",
            "source": [
                "SELECT TOP 100 book_id, ratings_1, ratings_5 FROM (\n",
                "SELECT book_id, ratings_1, ratings_5 FROM BooksDB.dbo.books WHERE ratings_1 > 1000\n",
                "INTERSECT\n",
                "SELECT book_id, ratings_1, ratings_5 FROM BooksDB.dbo.books WHERE ratings_5 > 1000) a \n",
                "ORDER BY a.book_id"
            ],
            "metadata": {
                "azdata_cell_guid": "43e39973-5a29-45ff-b2a9-9c658a19c296",
                "language": "sql"
            },
            "outputs": [
                {
                    "output_type": "display_data",
                    "data": {
                        "text/html": "(100 rows affected)"
                    },
                    "metadata": {}
                },
                {
                    "output_type": "display_data",
                    "data": {
                        "text/html": "Total execution time: 00:00:00.069"
                    },
                    "metadata": {}
                },
                {
                    "output_type": "execute_result",
                    "execution_count": 32,
                    "data": {
                        "application/vnd.dataresource+json": {
                            "schema": {
                                "fields": [
                                    {
                                        "name": "book_id"
                                    },
                                    {
                                        "name": "ratings_1"
                                    },
                                    {
                                        "name": "ratings_5"
                                    }
                                ]
                            },
                            "data": [
                                {
                                    "book_id": "1",
                                    "ratings_1": "7308",
                                    "ratings_5": "1161491"
                                },
                                {
                                    "book_id": "2",
                                    "ratings_1": "9528",
                                    "ratings_5": "1124806"
                                },
                                {
                                    "book_id": "3",
                                    "ratings_1": "75504",
                                    "ratings_5": "3011543"
                                },
                                {
                                    "book_id": "5",
                                    "ratings_1": "6716",
                                    "ratings_5": "1266670"
                                },
                                {
                                    "book_id": "6",
                                    "ratings_1": "6676",
                                    "ratings_5": "1195045"
                                },
                                {
                                    "book_id": "11",
                                    "ratings_1": "21764",
                                    "ratings_5": "498001"
                                },
                                {
                                    "book_id": "13",
                                    "ratings_1": "2657",
                                    "ratings_5": "136349"
                                },
                                {
                                    "book_id": "21",
                                    "ratings_1": "3514",
                                    "ratings_5": "94131"
                                },
                                {
                                    "book_id": "26",
                                    "ratings_1": "1100",
                                    "ratings_5": "11930"
                                },
                                {
                                    "book_id": "28",
                                    "ratings_1": "1073",
                                    "ratings_5": "21366"
                                },
                                {
                                    "book_id": "33",
                                    "ratings_1": "4807",
                                    "ratings_5": "277592"
                                },
                                {
                                    "book_id": "34",
                                    "ratings_1": "38031",
                                    "ratings_5": "1042394"
                                },
                                {
                                    "book_id": "50",
                                    "ratings_1": "12070",
                                    "ratings_5": "65144"
                                },
                                {
                                    "book_id": "93",
                                    "ratings_1": "2236",
                                    "ratings_5": "55942"
                                },
                                {
                                    "book_id": "106",
                                    "ratings_1": "1026",
                                    "ratings_5": "24290"
                                },
                                {
                                    "book_id": "231",
                                    "ratings_1": "1481",
                                    "ratings_5": "3766"
                                },
                                {
                                    "book_id": "249",
                                    "ratings_1": "2313",
                                    "ratings_5": "14025"
                                },
                                {
                                    "book_id": "264",
                                    "ratings_1": "1935",
                                    "ratings_5": "16753"
                                },
                                {
                                    "book_id": "295",
                                    "ratings_1": "5349",
                                    "ratings_5": "84584"
                                },
                                {
                                    "book_id": "320",
                                    "ratings_1": "27340",
                                    "ratings_5": "267197"
                                },
                                {
                                    "book_id": "343",
                                    "ratings_1": "5659",
                                    "ratings_5": "83771"
                                },
                                {
                                    "book_id": "350",
                                    "ratings_1": "10416",
                                    "ratings_5": "87322"
                                },
                                {
                                    "book_id": "378",
                                    "ratings_1": "2848",
                                    "ratings_5": "91467"
                                },
                                {
                                    "book_id": "415",
                                    "ratings_1": "1465",
                                    "ratings_5": "13216"
                                },
                                {
                                    "book_id": "599",
                                    "ratings_1": "1756",
                                    "ratings_5": "15010"
                                },
                                {
                                    "book_id": "629",
                                    "ratings_1": "6589",
                                    "ratings_5": "47106"
                                },
                                {
                                    "book_id": "656",
                                    "ratings_1": "4952",
                                    "ratings_5": "86430"
                                },
                                {
                                    "book_id": "662",
                                    "ratings_1": "30901",
                                    "ratings_5": "105796"
                                },
                                {
                                    "book_id": "665",
                                    "ratings_1": "1337",
                                    "ratings_5": "2974"
                                },
                                {
                                    "book_id": "667",
                                    "ratings_1": "6095",
                                    "ratings_5": "27631"
                                },
                                {
                                    "book_id": "706",
                                    "ratings_1": "1072",
                                    "ratings_5": "27566"
                                },
                                {
                                    "book_id": "760",
                                    "ratings_1": "1379",
                                    "ratings_5": "9554"
                                },
                                {
                                    "book_id": "771",
                                    "ratings_1": "1482",
                                    "ratings_5": "26414"
                                },
                                {
                                    "book_id": "816",
                                    "ratings_1": "1223",
                                    "ratings_5": "40317"
                                },
                                {
                                    "book_id": "830",
                                    "ratings_1": "7982",
                                    "ratings_5": "78211"
                                },
                                {
                                    "book_id": "865",
                                    "ratings_1": "74846",
                                    "ratings_5": "504212"
                                },
                                {
                                    "book_id": "890",
                                    "ratings_1": "46630",
                                    "ratings_5": "473795"
                                },
                                {
                                    "book_id": "902",
                                    "ratings_1": "2682",
                                    "ratings_5": "49122"
                                },
                                {
                                    "book_id": "930",
                                    "ratings_1": "23500",
                                    "ratings_5": "559782"
                                },
                                {
                                    "book_id": "960",
                                    "ratings_1": "77841",
                                    "ratings_5": "680175"
                                },
                                {
                                    "book_id": "968",
                                    "ratings_1": "71345",
                                    "ratings_5": "479387"
                                },
                                {
                                    "book_id": "976",
                                    "ratings_1": "14380",
                                    "ratings_5": "116346"
                                },
                                {
                                    "book_id": "1005",
                                    "ratings_1": "2764",
                                    "ratings_5": "57472"
                                },
                                {
                                    "book_id": "1067",
                                    "ratings_1": "3155",
                                    "ratings_5": "51844"
                                },
                                {
                                    "book_id": "1078",
                                    "ratings_1": "5262",
                                    "ratings_5": "71187"
                                },
                                {
                                    "book_id": "1097",
                                    "ratings_1": "7881",
                                    "ratings_5": "46555"
                                },
                                {
                                    "book_id": "1103",
                                    "ratings_1": "3268",
                                    "ratings_5": "103923"
                                },
                                {
                                    "book_id": "1192",
                                    "ratings_1": "1008",
                                    "ratings_5": "12306"
                                },
                                {
                                    "book_id": "1202",
                                    "ratings_1": "14586",
                                    "ratings_5": "176072"
                                },
                                {
                                    "book_id": "1232",
                                    "ratings_1": "4789",
                                    "ratings_5": "157170"
                                },
                                {
                                    "book_id": "1241",
                                    "ratings_1": "9619",
                                    "ratings_5": "46131"
                                },
                                {
                                    "book_id": "1274",
                                    "ratings_1": "8235",
                                    "ratings_5": "31104"
                                },
                                {
                                    "book_id": "1295",
                                    "ratings_1": "3977",
                                    "ratings_5": "72553"
                                },
                                {
                                    "book_id": "1371",
                                    "ratings_1": "7701",
                                    "ratings_5": "86791"
                                },
                                {
                                    "book_id": "1381",
                                    "ratings_1": "29703",
                                    "ratings_5": "208223"
                                },
                                {
                                    "book_id": "1420",
                                    "ratings_1": "10413",
                                    "ratings_5": "219807"
                                },
                                {
                                    "book_id": "1426",
                                    "ratings_1": "1164",
                                    "ratings_5": "7124"
                                },
                                {
                                    "book_id": "1427",
                                    "ratings_1": "2677",
                                    "ratings_5": "13251"
                                },
                                {
                                    "book_id": "1428",
                                    "ratings_1": "3569",
                                    "ratings_5": "17440"
                                },
                                {
                                    "book_id": "1430",
                                    "ratings_1": "4444",
                                    "ratings_5": "30702"
                                },
                                {
                                    "book_id": "1431",
                                    "ratings_1": "5217",
                                    "ratings_5": "35190"
                                },
                                {
                                    "book_id": "1554",
                                    "ratings_1": "3032",
                                    "ratings_5": "31572"
                                },
                                {
                                    "book_id": "1617",
                                    "ratings_1": "7761",
                                    "ratings_5": "360777"
                                },
                                {
                                    "book_id": "1618",
                                    "ratings_1": "21049",
                                    "ratings_5": "262481"
                                },
                                {
                                    "book_id": "1622",
                                    "ratings_1": "5598",
                                    "ratings_5": "120975"
                                },
                                {
                                    "book_id": "1625",
                                    "ratings_1": "1494",
                                    "ratings_5": "43539"
                                },
                                {
                                    "book_id": "1633",
                                    "ratings_1": "2135",
                                    "ratings_5": "30293"
                                },
                                {
                                    "book_id": "1842",
                                    "ratings_1": "4352",
                                    "ratings_5": "67491"
                                },
                                {
                                    "book_id": "1845",
                                    "ratings_1": "19229",
                                    "ratings_5": "227095"
                                },
                                {
                                    "book_id": "1846",
                                    "ratings_1": "2397",
                                    "ratings_5": "20597"
                                },
                                {
                                    "book_id": "1852",
                                    "ratings_1": "6366",
                                    "ratings_5": "72558"
                                },
                                {
                                    "book_id": "1869",
                                    "ratings_1": "10628",
                                    "ratings_5": "38092"
                                },
                                {
                                    "book_id": "1885",
                                    "ratings_1": "54700",
                                    "ratings_5": "1155673"
                                },
                                {
                                    "book_id": "1898",
                                    "ratings_1": "8041",
                                    "ratings_5": "124605"
                                },
                                {
                                    "book_id": "1911",
                                    "ratings_1": "3342",
                                    "ratings_5": "19638"
                                },
                                {
                                    "book_id": "1934",
                                    "ratings_1": "31645",
                                    "ratings_5": "535563"
                                },
                                {
                                    "book_id": "1953",
                                    "ratings_1": "28904",
                                    "ratings_5": "223571"
                                },
                                {
                                    "book_id": "2052",
                                    "ratings_1": "1521",
                                    "ratings_5": "33142"
                                },
                                {
                                    "book_id": "2122",
                                    "ratings_1": "18158",
                                    "ratings_5": "97543"
                                },
                                {
                                    "book_id": "2152",
                                    "ratings_1": "4240",
                                    "ratings_5": "5656"
                                },
                                {
                                    "book_id": "2156",
                                    "ratings_1": "6688",
                                    "ratings_5": "175578"
                                },
                                {
                                    "book_id": "2165",
                                    "ratings_1": "28645",
                                    "ratings_5": "170136"
                                },
                                {
                                    "book_id": "2175",
                                    "ratings_1": "7682",
                                    "ratings_5": "46065"
                                },
                                {
                                    "book_id": "2187",
                                    "ratings_1": "19329",
                                    "ratings_5": "197327"
                                },
                                {
                                    "book_id": "2199",
                                    "ratings_1": "3306",
                                    "ratings_5": "59219"
                                },
                                {
                                    "book_id": "2203",
                                    "ratings_1": "11255",
                                    "ratings_5": "97127"
                                },
                                {
                                    "book_id": "2265",
                                    "ratings_1": "1222",
                                    "ratings_5": "8028"
                                },
                                {
                                    "book_id": "2279",
                                    "ratings_1": "1869",
                                    "ratings_5": "25817"
                                },
                                {
                                    "book_id": "2373",
                                    "ratings_1": "1165",
                                    "ratings_5": "52654"
                                },
                                {
                                    "book_id": "2493",
                                    "ratings_1": "3570",
                                    "ratings_5": "84139"
                                },
                                {
                                    "book_id": "2517",
                                    "ratings_1": "1012",
                                    "ratings_5": "9877"
                                },
                                {
                                    "book_id": "2526",
                                    "ratings_1": "2960",
                                    "ratings_5": "54097"
                                },
                                {
                                    "book_id": "2547",
                                    "ratings_1": "2748",
                                    "ratings_5": "83064"
                                },
                                {
                                    "book_id": "2612",
                                    "ratings_1": "15111",
                                    "ratings_5": "162511"
                                },
                                {
                                    "book_id": "2623",
                                    "ratings_1": "22811",
                                    "ratings_5": "148996"
                                },
                                {
                                    "book_id": "2657",
                                    "ratings_1": "60427",
                                    "ratings_5": "1714267"
                                },
                                {
                                    "book_id": "2666",
                                    "ratings_1": "1413",
                                    "ratings_5": "15444"
                                },
                                {
                                    "book_id": "2696",
                                    "ratings_1": "6795",
                                    "ratings_5": "30480"
                                },
                                {
                                    "book_id": "2715",
                                    "ratings_1": "1381",
                                    "ratings_5": "10898"
                                },
                                {
                                    "book_id": "2744",
                                    "ratings_1": "1219",
                                    "ratings_5": "47727"
                                }
                            ]
                        },
                        "text/html": "<table><tr><th>book_id</th><th>ratings_1</th><th>ratings_5</th></tr><tr><td>1</td><td>7308</td><td>1161491</td></tr><tr><td>2</td><td>9528</td><td>1124806</td></tr><tr><td>3</td><td>75504</td><td>3011543</td></tr><tr><td>5</td><td>6716</td><td>1266670</td></tr><tr><td>6</td><td>6676</td><td>1195045</td></tr><tr><td>11</td><td>21764</td><td>498001</td></tr><tr><td>13</td><td>2657</td><td>136349</td></tr><tr><td>21</td><td>3514</td><td>94131</td></tr><tr><td>26</td><td>1100</td><td>11930</td></tr><tr><td>28</td><td>1073</td><td>21366</td></tr><tr><td>33</td><td>4807</td><td>277592</td></tr><tr><td>34</td><td>38031</td><td>1042394</td></tr><tr><td>50</td><td>12070</td><td>65144</td></tr><tr><td>93</td><td>2236</td><td>55942</td></tr><tr><td>106</td><td>1026</td><td>24290</td></tr><tr><td>231</td><td>1481</td><td>3766</td></tr><tr><td>249</td><td>2313</td><td>14025</td></tr><tr><td>264</td><td>1935</td><td>16753</td></tr><tr><td>295</td><td>5349</td><td>84584</td></tr><tr><td>320</td><td>27340</td><td>267197</td></tr><tr><td>343</td><td>5659</td><td>83771</td></tr><tr><td>350</td><td>10416</td><td>87322</td></tr><tr><td>378</td><td>2848</td><td>91467</td></tr><tr><td>415</td><td>1465</td><td>13216</td></tr><tr><td>599</td><td>1756</td><td>15010</td></tr><tr><td>629</td><td>6589</td><td>47106</td></tr><tr><td>656</td><td>4952</td><td>86430</td></tr><tr><td>662</td><td>30901</td><td>105796</td></tr><tr><td>665</td><td>1337</td><td>2974</td></tr><tr><td>667</td><td>6095</td><td>27631</td></tr><tr><td>706</td><td>1072</td><td>27566</td></tr><tr><td>760</td><td>1379</td><td>9554</td></tr><tr><td>771</td><td>1482</td><td>26414</td></tr><tr><td>816</td><td>1223</td><td>40317</td></tr><tr><td>830</td><td>7982</td><td>78211</td></tr><tr><td>865</td><td>74846</td><td>504212</td></tr><tr><td>890</td><td>46630</td><td>473795</td></tr><tr><td>902</td><td>2682</td><td>49122</td></tr><tr><td>930</td><td>23500</td><td>559782</td></tr><tr><td>960</td><td>77841</td><td>680175</td></tr><tr><td>968</td><td>71345</td><td>479387</td></tr><tr><td>976</td><td>14380</td><td>116346</td></tr><tr><td>1005</td><td>2764</td><td>57472</td></tr><tr><td>1067</td><td>3155</td><td>51844</td></tr><tr><td>1078</td><td>5262</td><td>71187</td></tr><tr><td>1097</td><td>7881</td><td>46555</td></tr><tr><td>1103</td><td>3268</td><td>103923</td></tr><tr><td>1192</td><td>1008</td><td>12306</td></tr><tr><td>1202</td><td>14586</td><td>176072</td></tr><tr><td>1232</td><td>4789</td><td>157170</td></tr><tr><td>1241</td><td>9619</td><td>46131</td></tr><tr><td>1274</td><td>8235</td><td>31104</td></tr><tr><td>1295</td><td>3977</td><td>72553</td></tr><tr><td>1371</td><td>7701</td><td>86791</td></tr><tr><td>1381</td><td>29703</td><td>208223</td></tr><tr><td>1420</td><td>10413</td><td>219807</td></tr><tr><td>1426</td><td>1164</td><td>7124</td></tr><tr><td>1427</td><td>2677</td><td>13251</td></tr><tr><td>1428</td><td>3569</td><td>17440</td></tr><tr><td>1430</td><td>4444</td><td>30702</td></tr><tr><td>1431</td><td>5217</td><td>35190</td></tr><tr><td>1554</td><td>3032</td><td>31572</td></tr><tr><td>1617</td><td>7761</td><td>360777</td></tr><tr><td>1618</td><td>21049</td><td>262481</td></tr><tr><td>1622</td><td>5598</td><td>120975</td></tr><tr><td>1625</td><td>1494</td><td>43539</td></tr><tr><td>1633</td><td>2135</td><td>30293</td></tr><tr><td>1842</td><td>4352</td><td>67491</td></tr><tr><td>1845</td><td>19229</td><td>227095</td></tr><tr><td>1846</td><td>2397</td><td>20597</td></tr><tr><td>1852</td><td>6366</td><td>72558</td></tr><tr><td>1869</td><td>10628</td><td>38092</td></tr><tr><td>1885</td><td>54700</td><td>1155673</td></tr><tr><td>1898</td><td>8041</td><td>124605</td></tr><tr><td>1911</td><td>3342</td><td>19638</td></tr><tr><td>1934</td><td>31645</td><td>535563</td></tr><tr><td>1953</td><td>28904</td><td>223571</td></tr><tr><td>2052</td><td>1521</td><td>33142</td></tr><tr><td>2122</td><td>18158</td><td>97543</td></tr><tr><td>2152</td><td>4240</td><td>5656</td></tr><tr><td>2156</td><td>6688</td><td>175578</td></tr><tr><td>2165</td><td>28645</td><td>170136</td></tr><tr><td>2175</td><td>7682</td><td>46065</td></tr><tr><td>2187</td><td>19329</td><td>197327</td></tr><tr><td>2199</td><td>3306</td><td>59219</td></tr><tr><td>2203</td><td>11255</td><td>97127</td></tr><tr><td>2265</td><td>1222</td><td>8028</td></tr><tr><td>2279</td><td>1869</td><td>25817</td></tr><tr><td>2373</td><td>1165</td><td>52654</td></tr><tr><td>2493</td><td>3570</td><td>84139</td></tr><tr><td>2517</td><td>1012</td><td>9877</td></tr><tr><td>2526</td><td>2960</td><td>54097</td></tr><tr><td>2547</td><td>2748</td><td>83064</td></tr><tr><td>2612</td><td>15111</td><td>162511</td></tr><tr><td>2623</td><td>22811</td><td>148996</td></tr><tr><td>2657</td><td>60427</td><td>1714267</td></tr><tr><td>2666</td><td>1413</td><td>15444</td></tr><tr><td>2696</td><td>6795</td><td>30480</td></tr><tr><td>2715</td><td>1381</td><td>10898</td></tr><tr><td>2744</td><td>1219</td><td>47727</td></tr></table>"
                    },
                    "metadata": {}
                }
            ],
            "execution_count": 32
        },
        {
            "cell_type": "markdown",
            "source": [
                "4. Write a query that returns the book ids of books that have a language code of \"en-US\" and not a langugae code of \"en-GB\". \n",
                "\n",
                "**<mark>\\*\\*\\*\\* For query above simple query with where clause will do. However if we want ALL english books except \"GB\" see query below.</mark>**"
            ],
            "metadata": {
                "azdata_cell_guid": "2bd4844b-83af-490f-97cd-fdc1fa2944ec"
            },
            "attachments": {}
        },
        {
            "cell_type": "code",
            "source": [
                "SELECT TOP 100 book_id, language_code \n",
                "FROM(\n",
                "    SELECT book_id, language_code FROM BooksDB.dbo.books \n",
                "    WHERE language_code LIKE '%en%'\n",
                "    EXCEPT\n",
                "    SELECT book_id, language_code FROM BooksDB.dbo.books\n",
                "    WHERE language_code LIKE '%GB%') a\n",
                "ORDER BY a.book_id"
            ],
            "metadata": {
                "azdata_cell_guid": "ba5a1b61-19c0-4d70-ae8d-2daae6ae1e21",
                "language": "sql",
                "tags": []
            },
            "outputs": [
                {
                    "output_type": "display_data",
                    "data": {
                        "text/html": "(100 rows affected)"
                    },
                    "metadata": {}
                },
                {
                    "output_type": "display_data",
                    "data": {
                        "text/html": "Total execution time: 00:00:00.062"
                    },
                    "metadata": {}
                },
                {
                    "output_type": "execute_result",
                    "metadata": {},
                    "execution_count": 1,
                    "data": {
                        "application/vnd.dataresource+json": {
                            "schema": {
                                "fields": [
                                    {
                                        "name": "book_id"
                                    },
                                    {
                                        "name": "language_code"
                                    }
                                ]
                            },
                            "data": [
                                {
                                    "book_id": "1",
                                    "language_code": "eng"
                                },
                                {
                                    "book_id": "2",
                                    "language_code": "eng"
                                },
                                {
                                    "book_id": "3",
                                    "language_code": "eng"
                                },
                                {
                                    "book_id": "5",
                                    "language_code": "eng"
                                },
                                {
                                    "book_id": "6",
                                    "language_code": "eng"
                                },
                                {
                                    "book_id": "8",
                                    "language_code": "eng"
                                },
                                {
                                    "book_id": "10",
                                    "language_code": "eng"
                                },
                                {
                                    "book_id": "11",
                                    "language_code": "en-US"
                                },
                                {
                                    "book_id": "13",
                                    "language_code": "eng"
                                },
                                {
                                    "book_id": "21",
                                    "language_code": "en-US"
                                },
                                {
                                    "book_id": "24",
                                    "language_code": "eng"
                                },
                                {
                                    "book_id": "25",
                                    "language_code": "en-US"
                                },
                                {
                                    "book_id": "26",
                                    "language_code": "en-US"
                                },
                                {
                                    "book_id": "27",
                                    "language_code": "en-US"
                                },
                                {
                                    "book_id": "28",
                                    "language_code": "eng"
                                },
                                {
                                    "book_id": "29",
                                    "language_code": "en-US"
                                },
                                {
                                    "book_id": "30",
                                    "language_code": "eng"
                                },
                                {
                                    "book_id": "33",
                                    "language_code": "eng"
                                },
                                {
                                    "book_id": "34",
                                    "language_code": "eng"
                                },
                                {
                                    "book_id": "36",
                                    "language_code": "eng"
                                },
                                {
                                    "book_id": "50",
                                    "language_code": "en-US"
                                },
                                {
                                    "book_id": "67",
                                    "language_code": "eng"
                                },
                                {
                                    "book_id": "93",
                                    "language_code": "eng"
                                },
                                {
                                    "book_id": "98",
                                    "language_code": "eng"
                                },
                                {
                                    "book_id": "105",
                                    "language_code": "eng"
                                },
                                {
                                    "book_id": "106",
                                    "language_code": "eng"
                                },
                                {
                                    "book_id": "112",
                                    "language_code": "eng"
                                },
                                {
                                    "book_id": "117",
                                    "language_code": "eng"
                                },
                                {
                                    "book_id": "119",
                                    "language_code": "en-US"
                                },
                                {
                                    "book_id": "122",
                                    "language_code": "eng"
                                },
                                {
                                    "book_id": "231",
                                    "language_code": "en-US"
                                },
                                {
                                    "book_id": "249",
                                    "language_code": "eng"
                                },
                                {
                                    "book_id": "250",
                                    "language_code": "eng"
                                },
                                {
                                    "book_id": "264",
                                    "language_code": "eng"
                                },
                                {
                                    "book_id": "275",
                                    "language_code": "eng"
                                },
                                {
                                    "book_id": "291",
                                    "language_code": "eng"
                                },
                                {
                                    "book_id": "295",
                                    "language_code": "eng"
                                },
                                {
                                    "book_id": "304",
                                    "language_code": "eng"
                                },
                                {
                                    "book_id": "320",
                                    "language_code": "eng"
                                },
                                {
                                    "book_id": "343",
                                    "language_code": "eng"
                                },
                                {
                                    "book_id": "348",
                                    "language_code": "eng"
                                },
                                {
                                    "book_id": "350",
                                    "language_code": "eng"
                                },
                                {
                                    "book_id": "353",
                                    "language_code": "eng"
                                },
                                {
                                    "book_id": "355",
                                    "language_code": "en-US"
                                },
                                {
                                    "book_id": "357",
                                    "language_code": "en-US"
                                },
                                {
                                    "book_id": "359",
                                    "language_code": "eng"
                                },
                                {
                                    "book_id": "360",
                                    "language_code": "en-US"
                                },
                                {
                                    "book_id": "365",
                                    "language_code": "en-US"
                                },
                                {
                                    "book_id": "378",
                                    "language_code": "en-US"
                                },
                                {
                                    "book_id": "386",
                                    "language_code": "eng"
                                },
                                {
                                    "book_id": "400",
                                    "language_code": "eng"
                                },
                                {
                                    "book_id": "415",
                                    "language_code": "eng"
                                },
                                {
                                    "book_id": "428",
                                    "language_code": "eng"
                                },
                                {
                                    "book_id": "431",
                                    "language_code": "eng"
                                },
                                {
                                    "book_id": "432",
                                    "language_code": "eng"
                                },
                                {
                                    "book_id": "446",
                                    "language_code": "eng"
                                },
                                {
                                    "book_id": "447",
                                    "language_code": "eng"
                                },
                                {
                                    "book_id": "449",
                                    "language_code": "eng"
                                },
                                {
                                    "book_id": "456",
                                    "language_code": "eng"
                                },
                                {
                                    "book_id": "597",
                                    "language_code": "en-US"
                                },
                                {
                                    "book_id": "599",
                                    "language_code": "en-US"
                                },
                                {
                                    "book_id": "629",
                                    "language_code": "eng"
                                },
                                {
                                    "book_id": "647",
                                    "language_code": "en-US"
                                },
                                {
                                    "book_id": "656",
                                    "language_code": "eng"
                                },
                                {
                                    "book_id": "662",
                                    "language_code": "eng"
                                },
                                {
                                    "book_id": "665",
                                    "language_code": "eng"
                                },
                                {
                                    "book_id": "667",
                                    "language_code": "eng"
                                },
                                {
                                    "book_id": "668",
                                    "language_code": "eng"
                                },
                                {
                                    "book_id": "676",
                                    "language_code": "eng"
                                },
                                {
                                    "book_id": "698",
                                    "language_code": "eng"
                                },
                                {
                                    "book_id": "703",
                                    "language_code": "eng"
                                },
                                {
                                    "book_id": "706",
                                    "language_code": "eng"
                                },
                                {
                                    "book_id": "760",
                                    "language_code": "eng"
                                },
                                {
                                    "book_id": "771",
                                    "language_code": "en-US"
                                },
                                {
                                    "book_id": "816",
                                    "language_code": "eng"
                                },
                                {
                                    "book_id": "822",
                                    "language_code": "en-US"
                                },
                                {
                                    "book_id": "823",
                                    "language_code": "en-US"
                                },
                                {
                                    "book_id": "825",
                                    "language_code": "eng"
                                },
                                {
                                    "book_id": "827",
                                    "language_code": "eng"
                                },
                                {
                                    "book_id": "830",
                                    "language_code": "eng"
                                },
                                {
                                    "book_id": "840",
                                    "language_code": "en-US"
                                },
                                {
                                    "book_id": "865",
                                    "language_code": "eng"
                                },
                                {
                                    "book_id": "870",
                                    "language_code": "eng"
                                },
                                {
                                    "book_id": "880",
                                    "language_code": "eng"
                                },
                                {
                                    "book_id": "890",
                                    "language_code": "eng"
                                },
                                {
                                    "book_id": "900",
                                    "language_code": "en-US"
                                },
                                {
                                    "book_id": "902",
                                    "language_code": "eng"
                                },
                                {
                                    "book_id": "903",
                                    "language_code": "eng"
                                },
                                {
                                    "book_id": "930",
                                    "language_code": "eng"
                                },
                                {
                                    "book_id": "960",
                                    "language_code": "en-CA"
                                },
                                {
                                    "book_id": "968",
                                    "language_code": "eng"
                                },
                                {
                                    "book_id": "976",
                                    "language_code": "eng"
                                },
                                {
                                    "book_id": "998",
                                    "language_code": "eng"
                                },
                                {
                                    "book_id": "1005",
                                    "language_code": "eng"
                                },
                                {
                                    "book_id": "1032",
                                    "language_code": "en-US"
                                },
                                {
                                    "book_id": "1052",
                                    "language_code": "eng"
                                },
                                {
                                    "book_id": "1067",
                                    "language_code": "eng"
                                },
                                {
                                    "book_id": "1078",
                                    "language_code": "eng"
                                },
                                {
                                    "book_id": "1097",
                                    "language_code": "eng"
                                },
                                {
                                    "book_id": "1103",
                                    "language_code": "eng"
                                }
                            ]
                        },
                        "text/html": [
                            "<table>",
                            "<tr><th>book_id</th><th>language_code</th></tr>",
                            "<tr><td>1</td><td>eng</td></tr>",
                            "<tr><td>2</td><td>eng</td></tr>",
                            "<tr><td>3</td><td>eng</td></tr>",
                            "<tr><td>5</td><td>eng</td></tr>",
                            "<tr><td>6</td><td>eng</td></tr>",
                            "<tr><td>8</td><td>eng</td></tr>",
                            "<tr><td>10</td><td>eng</td></tr>",
                            "<tr><td>11</td><td>en-US</td></tr>",
                            "<tr><td>13</td><td>eng</td></tr>",
                            "<tr><td>21</td><td>en-US</td></tr>",
                            "<tr><td>24</td><td>eng</td></tr>",
                            "<tr><td>25</td><td>en-US</td></tr>",
                            "<tr><td>26</td><td>en-US</td></tr>",
                            "<tr><td>27</td><td>en-US</td></tr>",
                            "<tr><td>28</td><td>eng</td></tr>",
                            "<tr><td>29</td><td>en-US</td></tr>",
                            "<tr><td>30</td><td>eng</td></tr>",
                            "<tr><td>33</td><td>eng</td></tr>",
                            "<tr><td>34</td><td>eng</td></tr>",
                            "<tr><td>36</td><td>eng</td></tr>",
                            "<tr><td>50</td><td>en-US</td></tr>",
                            "<tr><td>67</td><td>eng</td></tr>",
                            "<tr><td>93</td><td>eng</td></tr>",
                            "<tr><td>98</td><td>eng</td></tr>",
                            "<tr><td>105</td><td>eng</td></tr>",
                            "<tr><td>106</td><td>eng</td></tr>",
                            "<tr><td>112</td><td>eng</td></tr>",
                            "<tr><td>117</td><td>eng</td></tr>",
                            "<tr><td>119</td><td>en-US</td></tr>",
                            "<tr><td>122</td><td>eng</td></tr>",
                            "<tr><td>231</td><td>en-US</td></tr>",
                            "<tr><td>249</td><td>eng</td></tr>",
                            "<tr><td>250</td><td>eng</td></tr>",
                            "<tr><td>264</td><td>eng</td></tr>",
                            "<tr><td>275</td><td>eng</td></tr>",
                            "<tr><td>291</td><td>eng</td></tr>",
                            "<tr><td>295</td><td>eng</td></tr>",
                            "<tr><td>304</td><td>eng</td></tr>",
                            "<tr><td>320</td><td>eng</td></tr>",
                            "<tr><td>343</td><td>eng</td></tr>",
                            "<tr><td>348</td><td>eng</td></tr>",
                            "<tr><td>350</td><td>eng</td></tr>",
                            "<tr><td>353</td><td>eng</td></tr>",
                            "<tr><td>355</td><td>en-US</td></tr>",
                            "<tr><td>357</td><td>en-US</td></tr>",
                            "<tr><td>359</td><td>eng</td></tr>",
                            "<tr><td>360</td><td>en-US</td></tr>",
                            "<tr><td>365</td><td>en-US</td></tr>",
                            "<tr><td>378</td><td>en-US</td></tr>",
                            "<tr><td>386</td><td>eng</td></tr>",
                            "<tr><td>400</td><td>eng</td></tr>",
                            "<tr><td>415</td><td>eng</td></tr>",
                            "<tr><td>428</td><td>eng</td></tr>",
                            "<tr><td>431</td><td>eng</td></tr>",
                            "<tr><td>432</td><td>eng</td></tr>",
                            "<tr><td>446</td><td>eng</td></tr>",
                            "<tr><td>447</td><td>eng</td></tr>",
                            "<tr><td>449</td><td>eng</td></tr>",
                            "<tr><td>456</td><td>eng</td></tr>",
                            "<tr><td>597</td><td>en-US</td></tr>",
                            "<tr><td>599</td><td>en-US</td></tr>",
                            "<tr><td>629</td><td>eng</td></tr>",
                            "<tr><td>647</td><td>en-US</td></tr>",
                            "<tr><td>656</td><td>eng</td></tr>",
                            "<tr><td>662</td><td>eng</td></tr>",
                            "<tr><td>665</td><td>eng</td></tr>",
                            "<tr><td>667</td><td>eng</td></tr>",
                            "<tr><td>668</td><td>eng</td></tr>",
                            "<tr><td>676</td><td>eng</td></tr>",
                            "<tr><td>698</td><td>eng</td></tr>",
                            "<tr><td>703</td><td>eng</td></tr>",
                            "<tr><td>706</td><td>eng</td></tr>",
                            "<tr><td>760</td><td>eng</td></tr>",
                            "<tr><td>771</td><td>en-US</td></tr>",
                            "<tr><td>816</td><td>eng</td></tr>",
                            "<tr><td>822</td><td>en-US</td></tr>",
                            "<tr><td>823</td><td>en-US</td></tr>",
                            "<tr><td>825</td><td>eng</td></tr>",
                            "<tr><td>827</td><td>eng</td></tr>",
                            "<tr><td>830</td><td>eng</td></tr>",
                            "<tr><td>840</td><td>en-US</td></tr>",
                            "<tr><td>865</td><td>eng</td></tr>",
                            "<tr><td>870</td><td>eng</td></tr>",
                            "<tr><td>880</td><td>eng</td></tr>",
                            "<tr><td>890</td><td>eng</td></tr>",
                            "<tr><td>900</td><td>en-US</td></tr>",
                            "<tr><td>902</td><td>eng</td></tr>",
                            "<tr><td>903</td><td>eng</td></tr>",
                            "<tr><td>930</td><td>eng</td></tr>",
                            "<tr><td>960</td><td>en-CA</td></tr>",
                            "<tr><td>968</td><td>eng</td></tr>",
                            "<tr><td>976</td><td>eng</td></tr>",
                            "<tr><td>998</td><td>eng</td></tr>",
                            "<tr><td>1005</td><td>eng</td></tr>",
                            "<tr><td>1032</td><td>en-US</td></tr>",
                            "<tr><td>1052</td><td>eng</td></tr>",
                            "<tr><td>1067</td><td>eng</td></tr>",
                            "<tr><td>1078</td><td>eng</td></tr>",
                            "<tr><td>1097</td><td>eng</td></tr>",
                            "<tr><td>1103</td><td>eng</td></tr>",
                            "</table>"
                        ]
                    }
                }
            ],
            "execution_count": 1
        },
        {
            "cell_type": "markdown",
            "source": [
                "5. Write a query that returns the names of the tags and the tag ids for tags that were used over 100,000 times for a book. "
            ],
            "metadata": {
                "azdata_cell_guid": "6ddd588f-a84c-4c77-93ac-e8c8bd21d0f5"
            },
            "attachments": {}
        },
        {
            "cell_type": "code",
            "source": [
                "SELECT TOP 100 t.tag_id, t.tag_name \n",
                "FROM BooksDB.dbo.tags AS t \n",
                "WHERE t.tag_id IN \n",
                "    (SELECT bt.tag_id \n",
                "    FROM BooksDB.dbo.book_tags as bt \n",
                "    GROUP BY bt.tag_id\n",
                "    HAVING SUM(bt.[count])>100000\n",
                "    )"
            ],
            "metadata": {
                "azdata_cell_guid": "90f61ad7-65cb-4ea8-85a3-d8c815cfe347",
                "tags": [],
                "language": "sql"
            },
            "outputs": [
                {
                    "output_type": "display_data",
                    "data": {
                        "text/html": "(99 rows affected)"
                    },
                    "metadata": {}
                },
                {
                    "output_type": "display_data",
                    "data": {
                        "text/html": "Total execution time: 00:00:00.208"
                    },
                    "metadata": {}
                },
                {
                    "output_type": "execute_result",
                    "execution_count": 3,
                    "data": {
                        "application/vnd.dataresource+json": {
                            "schema": {
                                "fields": [
                                    {
                                        "name": "tag_id"
                                    },
                                    {
                                        "name": "tag_name"
                                    }
                                ]
                            },
                            "data": [
                                {
                                    "tag_id": "1416",
                                    "tag_name": "abandoned"
                                },
                                {
                                    "tag_id": "1642",
                                    "tag_name": "adult"
                                },
                                {
                                    "tag_id": "1659",
                                    "tag_name": "adult-fiction"
                                },
                                {
                                    "tag_id": "1691",
                                    "tag_name": "adventure"
                                },
                                {
                                    "tag_id": "2104",
                                    "tag_name": "all-time-favorites"
                                },
                                {
                                    "tag_id": "3358",
                                    "tag_name": "audible"
                                },
                                {
                                    "tag_id": "3371",
                                    "tag_name": "audio"
                                },
                                {
                                    "tag_id": "3389",
                                    "tag_name": "audiobook"
                                },
                                {
                                    "tag_id": "3392",
                                    "tag_name": "audiobooks"
                                },
                                {
                                    "tag_id": "4605",
                                    "tag_name": "biography"
                                },
                                {
                                    "tag_id": "4949",
                                    "tag_name": "book-club"
                                },
                                {
                                    "tag_id": "5090",
                                    "tag_name": "books"
                                },
                                {
                                    "tag_id": "5207",
                                    "tag_name": "books-i-own"
                                },
                                {
                                    "tag_id": "6750",
                                    "tag_name": "chick-lit"
                                },
                                {
                                    "tag_id": "6828",
                                    "tag_name": "childhood"
                                },
                                {
                                    "tag_id": "6857",
                                    "tag_name": "children"
                                },
                                {
                                    "tag_id": "6888",
                                    "tag_name": "children-s"
                                },
                                {
                                    "tag_id": "6895",
                                    "tag_name": "children-s-books"
                                },
                                {
                                    "tag_id": "6953",
                                    "tag_name": "childrens"
                                },
                                {
                                    "tag_id": "7404",
                                    "tag_name": "classic"
                                },
                                {
                                    "tag_id": "7457",
                                    "tag_name": "classics"
                                },
                                {
                                    "tag_id": "7778",
                                    "tag_name": "comics"
                                },
                                {
                                    "tag_id": "8055",
                                    "tag_name": "contemporary"
                                },
                                {
                                    "tag_id": "8076",
                                    "tag_name": "contemporary-romance"
                                },
                                {
                                    "tag_id": "8517",
                                    "tag_name": "crime"
                                },
                                {
                                    "tag_id": "8717",
                                    "tag_name": "currently-reading"
                                },
                                {
                                    "tag_id": "9221",
                                    "tag_name": "default"
                                },
                                {
                                    "tag_id": "9886",
                                    "tag_name": "drama"
                                },
                                {
                                    "tag_id": "10059",
                                    "tag_name": "dystopia"
                                },
                                {
                                    "tag_id": "10064",
                                    "tag_name": "dystopian"
                                },
                                {
                                    "tag_id": "10197",
                                    "tag_name": "ebook"
                                },
                                {
                                    "tag_id": "10210",
                                    "tag_name": "ebooks"
                                },
                                {
                                    "tag_id": "10644",
                                    "tag_name": "english"
                                },
                                {
                                    "tag_id": "11305",
                                    "tag_name": "fantasy"
                                },
                                {
                                    "tag_id": "11497",
                                    "tag_name": "favorite"
                                },
                                {
                                    "tag_id": "11557",
                                    "tag_name": "favorites"
                                },
                                {
                                    "tag_id": "11590",
                                    "tag_name": "favourites"
                                },
                                {
                                    "tag_id": "11743",
                                    "tag_name": "fiction"
                                },
                                {
                                    "tag_id": "13547",
                                    "tag_name": "graphic-novel"
                                },
                                {
                                    "tag_id": "13561",
                                    "tag_name": "graphic-novels"
                                },
                                {
                                    "tag_id": "14467",
                                    "tag_name": "historical"
                                },
                                {
                                    "tag_id": "14487",
                                    "tag_name": "historical-fiction"
                                },
                                {
                                    "tag_id": "14552",
                                    "tag_name": "history"
                                },
                                {
                                    "tag_id": "14821",
                                    "tag_name": "horror"
                                },
                                {
                                    "tag_id": "15048",
                                    "tag_name": "humor"
                                },
                                {
                                    "tag_id": "15169",
                                    "tag_name": "i-own"
                                },
                                {
                                    "tag_id": "17124",
                                    "tag_name": "kids"
                                },
                                {
                                    "tag_id": "17213",
                                    "tag_name": "kindle"
                                },
                                {
                                    "tag_id": "18045",
                                    "tag_name": "library"
                                },
                                {
                                    "tag_id": "18367",
                                    "tag_name": "literature"
                                },
                                {
                                    "tag_id": "18886",
                                    "tag_name": "magic"
                                },
                                {
                                    "tag_id": "19052",
                                    "tag_name": "manga"
                                },
                                {
                                    "tag_id": "19733",
                                    "tag_name": "memoir"
                                },
                                {
                                    "tag_id": "19974",
                                    "tag_name": "middle-grade"
                                },
                                {
                                    "tag_id": "20774",
                                    "tag_name": "my-books"
                                },
                                {
                                    "tag_id": "20849",
                                    "tag_name": "my-library"
                                },
                                {
                                    "tag_id": "20939",
                                    "tag_name": "mystery"
                                },
                                {
                                    "tag_id": "21387",
                                    "tag_name": "new-adult"
                                },
                                {
                                    "tag_id": "21689",
                                    "tag_name": "non-fiction"
                                },
                                {
                                    "tag_id": "21773",
                                    "tag_name": "nonfiction"
                                },
                                {
                                    "tag_id": "21989",
                                    "tag_name": "novel"
                                },
                                {
                                    "tag_id": "22034",
                                    "tag_name": "novels"
                                },
                                {
                                    "tag_id": "22689",
                                    "tag_name": "own-it"
                                },
                                {
                                    "tag_id": "22743",
                                    "tag_name": "owned"
                                },
                                {
                                    "tag_id": "22753",
                                    "tag_name": "owned-books"
                                },
                                {
                                    "tag_id": "22973",
                                    "tag_name": "paranormal"
                                },
                                {
                                    "tag_id": "22983",
                                    "tag_name": "paranormal-romance"
                                },
                                {
                                    "tag_id": "23471",
                                    "tag_name": "philosophy"
                                },
                                {
                                    "tag_id": "23605",
                                    "tag_name": "picture-books"
                                },
                                {
                                    "tag_id": "23743",
                                    "tag_name": "plays"
                                },
                                {
                                    "tag_id": "23831",
                                    "tag_name": "poetry"
                                },
                                {
                                    "tag_id": "24960",
                                    "tag_name": "re-read"
                                },
                                {
                                    "tag_id": "25148",
                                    "tag_name": "read-in-2012"
                                },
                                {
                                    "tag_id": "25149",
                                    "tag_name": "read-in-2013"
                                },
                                {
                                    "tag_id": "25150",
                                    "tag_name": "read-in-2014"
                                },
                                {
                                    "tag_id": "25151",
                                    "tag_name": "read-in-2015"
                                },
                                {
                                    "tag_id": "25152",
                                    "tag_name": "read-in-2016"
                                },
                                {
                                    "tag_id": "25438",
                                    "tag_name": "realistic-fiction"
                                },
                                {
                                    "tag_id": "26138",
                                    "tag_name": "romance"
                                },
                                {
                                    "tag_id": "26735",
                                    "tag_name": "school"
                                },
                                {
                                    "tag_id": "26771",
                                    "tag_name": "sci-fi"
                                },
                                {
                                    "tag_id": "26785",
                                    "tag_name": "sci-fi-fantasy"
                                },
                                {
                                    "tag_id": "26816",
                                    "tag_name": "science"
                                },
                                {
                                    "tag_id": "26837",
                                    "tag_name": "science-fiction"
                                },
                                {
                                    "tag_id": "26894",
                                    "tag_name": "scifi"
                                },
                                {
                                    "tag_id": "27199",
                                    "tag_name": "series"
                                },
                                {
                                    "tag_id": "27669",
                                    "tag_name": "short-stories"
                                },
                                {
                                    "tag_id": "29011",
                                    "tag_name": "supernatural"
                                },
                                {
                                    "tag_id": "29076",
                                    "tag_name": "suspense"
                                },
                                {
                                    "tag_id": "29452",
                                    "tag_name": "teen"
                                },
                                {
                                    "tag_id": "30358",
                                    "tag_name": "thriller"
                                },
                                {
                                    "tag_id": "30521",
                                    "tag_name": "to-buy"
                                },
                                {
                                    "tag_id": "30574",
                                    "tag_name": "to-read"
                                },
                                {
                                    "tag_id": "31617",
                                    "tag_name": "urban-fantasy"
                                },
                                {
                                    "tag_id": "31723",
                                    "tag_name": "vampire"
                                },
                                {
                                    "tag_id": "31745",
                                    "tag_name": "vampires"
                                },
                                {
                                    "tag_id": "32586",
                                    "tag_name": "wish-list"
                                },
                                {
                                    "tag_id": "32989",
                                    "tag_name": "ya"
                                },
                                {
                                    "tag_id": "33114",
                                    "tag_name": "young-adult"
                                }
                            ]
                        },
                        "text/html": "<table><tr><th>tag_id</th><th>tag_name</th></tr><tr><td>1416</td><td>abandoned</td></tr><tr><td>1642</td><td>adult</td></tr><tr><td>1659</td><td>adult-fiction</td></tr><tr><td>1691</td><td>adventure</td></tr><tr><td>2104</td><td>all-time-favorites</td></tr><tr><td>3358</td><td>audible</td></tr><tr><td>3371</td><td>audio</td></tr><tr><td>3389</td><td>audiobook</td></tr><tr><td>3392</td><td>audiobooks</td></tr><tr><td>4605</td><td>biography</td></tr><tr><td>4949</td><td>book-club</td></tr><tr><td>5090</td><td>books</td></tr><tr><td>5207</td><td>books-i-own</td></tr><tr><td>6750</td><td>chick-lit</td></tr><tr><td>6828</td><td>childhood</td></tr><tr><td>6857</td><td>children</td></tr><tr><td>6888</td><td>children-s</td></tr><tr><td>6895</td><td>children-s-books</td></tr><tr><td>6953</td><td>childrens</td></tr><tr><td>7404</td><td>classic</td></tr><tr><td>7457</td><td>classics</td></tr><tr><td>7778</td><td>comics</td></tr><tr><td>8055</td><td>contemporary</td></tr><tr><td>8076</td><td>contemporary-romance</td></tr><tr><td>8517</td><td>crime</td></tr><tr><td>8717</td><td>currently-reading</td></tr><tr><td>9221</td><td>default</td></tr><tr><td>9886</td><td>drama</td></tr><tr><td>10059</td><td>dystopia</td></tr><tr><td>10064</td><td>dystopian</td></tr><tr><td>10197</td><td>ebook</td></tr><tr><td>10210</td><td>ebooks</td></tr><tr><td>10644</td><td>english</td></tr><tr><td>11305</td><td>fantasy</td></tr><tr><td>11497</td><td>favorite</td></tr><tr><td>11557</td><td>favorites</td></tr><tr><td>11590</td><td>favourites</td></tr><tr><td>11743</td><td>fiction</td></tr><tr><td>13547</td><td>graphic-novel</td></tr><tr><td>13561</td><td>graphic-novels</td></tr><tr><td>14467</td><td>historical</td></tr><tr><td>14487</td><td>historical-fiction</td></tr><tr><td>14552</td><td>history</td></tr><tr><td>14821</td><td>horror</td></tr><tr><td>15048</td><td>humor</td></tr><tr><td>15169</td><td>i-own</td></tr><tr><td>17124</td><td>kids</td></tr><tr><td>17213</td><td>kindle</td></tr><tr><td>18045</td><td>library</td></tr><tr><td>18367</td><td>literature</td></tr><tr><td>18886</td><td>magic</td></tr><tr><td>19052</td><td>manga</td></tr><tr><td>19733</td><td>memoir</td></tr><tr><td>19974</td><td>middle-grade</td></tr><tr><td>20774</td><td>my-books</td></tr><tr><td>20849</td><td>my-library</td></tr><tr><td>20939</td><td>mystery</td></tr><tr><td>21387</td><td>new-adult</td></tr><tr><td>21689</td><td>non-fiction</td></tr><tr><td>21773</td><td>nonfiction</td></tr><tr><td>21989</td><td>novel</td></tr><tr><td>22034</td><td>novels</td></tr><tr><td>22689</td><td>own-it</td></tr><tr><td>22743</td><td>owned</td></tr><tr><td>22753</td><td>owned-books</td></tr><tr><td>22973</td><td>paranormal</td></tr><tr><td>22983</td><td>paranormal-romance</td></tr><tr><td>23471</td><td>philosophy</td></tr><tr><td>23605</td><td>picture-books</td></tr><tr><td>23743</td><td>plays</td></tr><tr><td>23831</td><td>poetry</td></tr><tr><td>24960</td><td>re-read</td></tr><tr><td>25148</td><td>read-in-2012</td></tr><tr><td>25149</td><td>read-in-2013</td></tr><tr><td>25150</td><td>read-in-2014</td></tr><tr><td>25151</td><td>read-in-2015</td></tr><tr><td>25152</td><td>read-in-2016</td></tr><tr><td>25438</td><td>realistic-fiction</td></tr><tr><td>26138</td><td>romance</td></tr><tr><td>26735</td><td>school</td></tr><tr><td>26771</td><td>sci-fi</td></tr><tr><td>26785</td><td>sci-fi-fantasy</td></tr><tr><td>26816</td><td>science</td></tr><tr><td>26837</td><td>science-fiction</td></tr><tr><td>26894</td><td>scifi</td></tr><tr><td>27199</td><td>series</td></tr><tr><td>27669</td><td>short-stories</td></tr><tr><td>29011</td><td>supernatural</td></tr><tr><td>29076</td><td>suspense</td></tr><tr><td>29452</td><td>teen</td></tr><tr><td>30358</td><td>thriller</td></tr><tr><td>30521</td><td>to-buy</td></tr><tr><td>30574</td><td>to-read</td></tr><tr><td>31617</td><td>urban-fantasy</td></tr><tr><td>31723</td><td>vampire</td></tr><tr><td>31745</td><td>vampires</td></tr><tr><td>32586</td><td>wish-list</td></tr><tr><td>32989</td><td>ya</td></tr><tr><td>33114</td><td>young-adult</td></tr></table>"
                    },
                    "metadata": {}
                }
            ],
            "execution_count": 3
        }
    ]
}